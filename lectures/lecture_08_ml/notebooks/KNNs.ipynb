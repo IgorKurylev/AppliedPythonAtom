{
 "cells": [
  {
   "cell_type": "code",
   "execution_count": null,
   "metadata": {
    "collapsed": true
   },
   "outputs": [],
   "source": [
    "import numpy as np\n",
    "import pandas as pd"
   ]
  },
  {
   "cell_type": "markdown",
   "metadata": {},
   "source": [
    "# Вспомним (напишем) KNN для классификации"
   ]
  },
  {
   "cell_type": "code",
   "execution_count": null,
   "metadata": {
    "collapsed": false
   },
   "outputs": [],
   "source": [
    "#Считаем данные из файла data/Howell1.csv в DataFrame\n",
    "# Должно быть 4 колонки: height, weight, age, male\n",
    "df = pd.read_csv(\"data/Howell1.csv\", sep=\";\")\n",
    "df.drop(\"Unnamed: 0\", axis=1, inplace=True)\n",
    "df.head()"
   ]
  },
  {
   "cell_type": "code",
   "execution_count": null,
   "metadata": {
    "collapsed": true
   },
   "outputs": [],
   "source": [
    "#Разобьем наши данные на трейн и валидацию (не будем делать cross-validation, возьмем просто отложенный семпл)\n",
    "#Чем плох такой подход?\n",
    "#Используем train_test_split с random_state=13, test_size=0.2 и стратификацией по целевой переменной \n",
    "#ПРЕДСКАЗЫВАТЬ БУДЕМ ПОЛ!\n",
    "from sklearn.model_selection import train_test_split"
   ]
  },
  {
   "cell_type": "code",
   "execution_count": null,
   "metadata": {
    "collapsed": true
   },
   "outputs": [],
   "source": [
    "X_train, X_test, y_train, y_test = train_test_split(df.drop(\"male\", axis=1), df['male'],\n",
    "                                                    random_state=13, test_size=0.2, stratify=df['male'])"
   ]
  },
  {
   "cell_type": "code",
   "execution_count": null,
   "metadata": {
    "collapsed": true
   },
   "outputs": [],
   "source": [
    "#Что еще нужно сделать для KNN?"
   ]
  },
  {
   "cell_type": "code",
   "execution_count": null,
   "metadata": {
    "collapsed": false
   },
   "outputs": [],
   "source": [
    "#Заполните пропуски в классификаторе\n",
    "class KNNClassifier:\n",
    "    \"\"\"\n",
    "    simple KNN classifier\n",
    "    \"\"\"\n",
    "    \n",
    "    def __init__(self, n):\n",
    "        pass\n",
    "        \n",
    "    def fit(self, X, y):\n",
    "        pass\n",
    "    \n",
    "    def predict(self, X):\n",
    "        y = []\n",
    "        assert len(X.shape) == 2\n",
    "        for (h, w) in X:\n",
    "            ### Посчитаем расстояние от всех элементов в тренировочной выборке\n",
    "            # до текущего примера -> результат - вектор размерности трейна\n",
    "            d = pass\n",
    "            ### Возьмем индексы n элементов, расстояние до которых минимально\n",
    "            ### результат -> вектор из n элементов\n",
    "            idx = pass\n",
    "            ### Посчитаем частоту меток для каждого случая \n",
    "            ### результат -> вектор длинны 2 который покажет\n",
    "            ### сколько соседей 0-го класса, сколько соседей 1-го класса.\n",
    "            counts = pass\n",
    "            ### возьмем самый часто встречаемый в соседях класс.\n",
    "            prediction = pass\n",
    "            y.append(prediction)\n",
    "        return y"
   ]
  },
  {
   "cell_type": "code",
   "execution_count": null,
   "metadata": {
    "collapsed": true
   },
   "outputs": [],
   "source": [
    "#Подберем на валидации число соседей\n",
    "possible_n = [3, 5, 7, 9, 13]\n",
    "#TODO Подберем число соседей\n",
    "#Хотим быть очень точными ;)"
   ]
  },
  {
   "cell_type": "markdown",
   "metadata": {},
   "source": [
    "# KNN для регрессии"
   ]
  },
  {
   "cell_type": "code",
   "execution_count": null,
   "metadata": {
    "collapsed": true
   },
   "outputs": [],
   "source": [
    "#TODO Препроцессинг данных для регрессии. Целевая переменная - ВОЗРАСТ, посмотрим можно ли что-то сказать\n",
    "#о возрасте по весу, росту и полу (Hint, скорее всего нет)\n",
    "class KNNRegressor:\n",
    "    \"\"\"\n",
    "    simple KNN regressor\n",
    "    \"\"\"\n",
    "    \n",
    "    def __init__(self, n):\n",
    "        pass\n",
    "        \n",
    "    def fit(self, X, y):\n",
    "        pass\n",
    "    \n",
    "    def predict(self, X):\n",
    "        y = []\n",
    "        assert len(X.shape) == 2\n",
    "        for (h, w) in X:\n",
    "            ### Посчитаем расстояние от всех элементов в тренировочной выборке\n",
    "            # до текущего примера -> результат - вектор размерности трейна\n",
    "            d = pass\n",
    "            ### Возьмем индексы n элементов, расстояние до которых минимально\n",
    "            ### результат -> вектор из n элементов\n",
    "            idx = pass\n",
    "            counts = pass\n",
    "            prediction = pass\n",
    "            y.append(prediction)\n",
    "        return y"
   ]
  },
  {
   "cell_type": "code",
   "execution_count": null,
   "metadata": {
    "collapsed": true
   },
   "outputs": [],
   "source": [
    "#Подберем на валидации число соседей\n",
    "possible_n = [3, 5, 7, 9, 13]\n",
    "#TODO Подберем число соседей\n",
    "#Хотим быть очень точными ;)"
   ]
  }
 ],
 "metadata": {
  "anaconda-cloud": {},
  "kernelspec": {
   "display_name": "Python [default]",
   "language": "python",
   "name": "python3"
  },
  "language_info": {
   "codemirror_mode": {
    "name": "ipython",
    "version": 3
   },
   "file_extension": ".py",
   "mimetype": "text/x-python",
   "name": "python",
   "nbconvert_exporter": "python",
   "pygments_lexer": "ipython3",
   "version": "3.5.2"
  }
 },
 "nbformat": 4,
 "nbformat_minor": 1
}
