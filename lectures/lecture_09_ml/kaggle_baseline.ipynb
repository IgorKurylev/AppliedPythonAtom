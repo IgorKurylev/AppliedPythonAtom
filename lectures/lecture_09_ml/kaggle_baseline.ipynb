{
 "cells": [
  {
   "cell_type": "code",
   "execution_count": null,
   "metadata": {},
   "outputs": [],
   "source": [
    "!pip install pymorphy2\n",
    "!pip install -U xgboost"
   ]
  },
  {
   "cell_type": "code",
   "execution_count": null,
   "metadata": {},
   "outputs": [],
   "source": []
  },
  {
   "cell_type": "raw",
   "metadata": {},
   "source": [
    "Вам предстоит построить модель, которая в зависимости цены, заголовка, категории и времени размещения объявления предсказывает количество просмотров объявления до конца следующего дня с момента подачи.\n",
    "\n",
    "Описание данных\n",
    "start_time\tВремя подачи объявления (МСК)\n",
    "title\tЗаголовок объявления\n",
    "price\tЦена\n",
    "item_id\tИдентификатор объявления\n",
    "owner_type\tТип владельца объявления (Private – частный пользователь; Company – компания; Shop – владелец магазина)\n",
    "category\tКатегория объявления (Транспорт, недвижимость и т.д.)\n",
    "subcategory\tПодкатегория объявления\n",
    "param1, param2, param3 - Параметры объявления* свои для каждого узла в дереве категории\n",
    "region\t-  Регион размещения объявления\n",
    "item_views\t- Целевая переменная, логарифм просмотров объявления\n",
    "\n",
    "* На примере подкатегории «Детская одежда и обувь»\n",
    "• param1 = Вид одежды = «Для мальчиков» \n",
    "• param2 = Предмет одежды = “Верхняя одежда» \n",
    "• param3 = Размер = «50-56 cм (0-2 мес)»"
   ]
  },
  {
   "cell_type": "raw",
   "metadata": {},
   "source": []
  },
  {
   "cell_type": "code",
   "execution_count": 1,
   "metadata": {
    "ExecuteTime": {
     "end_time": "2019-04-30T13:33:23.635943Z",
     "start_time": "2019-04-30T13:33:22.842520Z"
    }
   },
   "outputs": [],
   "source": [
    "import numpy as np\n",
    "import pandas as pd\n",
    "import matplotlib.pyplot as plt\n",
    "\n",
    "%matplotlib inline"
   ]
  },
  {
   "cell_type": "code",
   "execution_count": 2,
   "metadata": {
    "ExecuteTime": {
     "end_time": "2019-04-30T13:33:59.455767Z",
     "start_time": "2019-04-30T13:33:56.965832Z"
    }
   },
   "outputs": [],
   "source": [
    "data_train = pd.read_csv('kagle_train.csv.zip', sep=',', parse_dates=['start_time'])\n",
    "data_test = pd.read_csv('regr_test.csv.zip', sep=',', parse_dates=['start_time'])"
   ]
  },
  {
   "cell_type": "code",
   "execution_count": 5,
   "metadata": {
    "ExecuteTime": {
     "end_time": "2019-04-30T13:34:18.596049Z",
     "start_time": "2019-04-30T13:34:18.554802Z"
    }
   },
   "outputs": [
    {
     "data": {
      "text/html": [
       "<div>\n",
       "<style scoped>\n",
       "    .dataframe tbody tr th:only-of-type {\n",
       "        vertical-align: middle;\n",
       "    }\n",
       "\n",
       "    .dataframe tbody tr th {\n",
       "        vertical-align: top;\n",
       "    }\n",
       "\n",
       "    .dataframe thead th {\n",
       "        text-align: right;\n",
       "    }\n",
       "</style>\n",
       "<table border=\"1\" class=\"dataframe\">\n",
       "  <thead>\n",
       "    <tr style=\"text-align: right;\">\n",
       "      <th></th>\n",
       "      <th>id</th>\n",
       "      <th>start_time</th>\n",
       "      <th>title</th>\n",
       "      <th>price</th>\n",
       "      <th>item_id</th>\n",
       "      <th>owner_type</th>\n",
       "      <th>category</th>\n",
       "      <th>subcategory</th>\n",
       "      <th>param1</th>\n",
       "      <th>param2</th>\n",
       "      <th>param3</th>\n",
       "      <th>region</th>\n",
       "      <th>item_views</th>\n",
       "    </tr>\n",
       "  </thead>\n",
       "  <tbody>\n",
       "    <tr>\n",
       "      <th>0</th>\n",
       "      <td>328853</td>\n",
       "      <td>2016-12-27 10:38:04</td>\n",
       "      <td>Сандали фирмы Crocs</td>\n",
       "      <td>800</td>\n",
       "      <td>1301822498390501359</td>\n",
       "      <td>Private</td>\n",
       "      <td>Личные вещи</td>\n",
       "      <td>Детская одежда и обувь</td>\n",
       "      <td>Для мальчиков</td>\n",
       "      <td>Обувь</td>\n",
       "      <td>&gt; 36</td>\n",
       "      <td>Москва</td>\n",
       "      <td>3.332205</td>\n",
       "    </tr>\n",
       "    <tr>\n",
       "      <th>1</th>\n",
       "      <td>257639</td>\n",
       "      <td>2016-12-27 15:23:55</td>\n",
       "      <td>Бутсы футбольные Reebok</td>\n",
       "      <td>2000</td>\n",
       "      <td>4439620035274845039</td>\n",
       "      <td>Private</td>\n",
       "      <td>Личные вещи</td>\n",
       "      <td>Детская одежда и обувь</td>\n",
       "      <td>Для мальчиков</td>\n",
       "      <td>Обувь</td>\n",
       "      <td>&gt; 36</td>\n",
       "      <td>Омская область</td>\n",
       "      <td>2.302585</td>\n",
       "    </tr>\n",
       "    <tr>\n",
       "      <th>2</th>\n",
       "      <td>140732</td>\n",
       "      <td>2016-12-28 19:34:15</td>\n",
       "      <td>Nike hypervenom Бутсы</td>\n",
       "      <td>600</td>\n",
       "      <td>4860577743813309218</td>\n",
       "      <td>Private</td>\n",
       "      <td>Личные вещи</td>\n",
       "      <td>Детская одежда и обувь</td>\n",
       "      <td>Для мальчиков</td>\n",
       "      <td>Обувь</td>\n",
       "      <td>&gt; 36</td>\n",
       "      <td>Санкт-Петербург</td>\n",
       "      <td>4.663439</td>\n",
       "    </tr>\n",
       "    <tr>\n",
       "      <th>3</th>\n",
       "      <td>3080</td>\n",
       "      <td>2016-12-26 10:26:02</td>\n",
       "      <td>Сапоги</td>\n",
       "      <td>150</td>\n",
       "      <td>3492530336858889466</td>\n",
       "      <td>Private</td>\n",
       "      <td>Личные вещи</td>\n",
       "      <td>Детская одежда и обувь</td>\n",
       "      <td>Для мальчиков</td>\n",
       "      <td>Обувь</td>\n",
       "      <td>&gt; 36</td>\n",
       "      <td>Тульская область</td>\n",
       "      <td>3.367296</td>\n",
       "    </tr>\n",
       "    <tr>\n",
       "      <th>4</th>\n",
       "      <td>325394</td>\n",
       "      <td>2016-12-26 17:09:19</td>\n",
       "      <td>Кеды 38</td>\n",
       "      <td>500</td>\n",
       "      <td>3559049054931858928</td>\n",
       "      <td>Private</td>\n",
       "      <td>Личные вещи</td>\n",
       "      <td>Детская одежда и обувь</td>\n",
       "      <td>Для мальчиков</td>\n",
       "      <td>Обувь</td>\n",
       "      <td>&gt; 36</td>\n",
       "      <td>Самарская область</td>\n",
       "      <td>2.302585</td>\n",
       "    </tr>\n",
       "  </tbody>\n",
       "</table>\n",
       "</div>"
      ],
      "text/plain": [
       "       id          start_time                    title  price  \\\n",
       "0  328853 2016-12-27 10:38:04      Сандали фирмы Crocs    800   \n",
       "1  257639 2016-12-27 15:23:55  Бутсы футбольные Reebok   2000   \n",
       "2  140732 2016-12-28 19:34:15    Nike hypervenom Бутсы    600   \n",
       "3    3080 2016-12-26 10:26:02                   Сапоги    150   \n",
       "4  325394 2016-12-26 17:09:19                  Кеды 38    500   \n",
       "\n",
       "               item_id owner_type     category             subcategory  \\\n",
       "0  1301822498390501359    Private  Личные вещи  Детская одежда и обувь   \n",
       "1  4439620035274845039    Private  Личные вещи  Детская одежда и обувь   \n",
       "2  4860577743813309218    Private  Личные вещи  Детская одежда и обувь   \n",
       "3  3492530336858889466    Private  Личные вещи  Детская одежда и обувь   \n",
       "4  3559049054931858928    Private  Личные вещи  Детская одежда и обувь   \n",
       "\n",
       "          param1 param2 param3             region  item_views  \n",
       "0  Для мальчиков  Обувь   > 36             Москва    3.332205  \n",
       "1  Для мальчиков  Обувь   > 36     Омская область    2.302585  \n",
       "2  Для мальчиков  Обувь   > 36    Санкт-Петербург    4.663439  \n",
       "3  Для мальчиков  Обувь   > 36   Тульская область    3.367296  \n",
       "4  Для мальчиков  Обувь   > 36  Самарская область    2.302585  "
      ]
     },
     "execution_count": 5,
     "metadata": {},
     "output_type": "execute_result"
    }
   ],
   "source": [
    "data_train.head()"
   ]
  },
  {
   "cell_type": "code",
   "execution_count": 4,
   "metadata": {
    "ExecuteTime": {
     "end_time": "2019-04-30T13:34:11.172795Z",
     "start_time": "2019-04-30T13:34:11.150548Z"
    }
   },
   "outputs": [
    {
     "data": {
      "text/html": [
       "<div>\n",
       "<style scoped>\n",
       "    .dataframe tbody tr th:only-of-type {\n",
       "        vertical-align: middle;\n",
       "    }\n",
       "\n",
       "    .dataframe tbody tr th {\n",
       "        vertical-align: top;\n",
       "    }\n",
       "\n",
       "    .dataframe thead th {\n",
       "        text-align: right;\n",
       "    }\n",
       "</style>\n",
       "<table border=\"1\" class=\"dataframe\">\n",
       "  <thead>\n",
       "    <tr style=\"text-align: right;\">\n",
       "      <th></th>\n",
       "      <th>id</th>\n",
       "      <th>start_time</th>\n",
       "      <th>title</th>\n",
       "      <th>price</th>\n",
       "      <th>item_id</th>\n",
       "      <th>owner_type</th>\n",
       "      <th>category</th>\n",
       "      <th>subcategory</th>\n",
       "      <th>param1</th>\n",
       "      <th>param2</th>\n",
       "      <th>param3</th>\n",
       "      <th>region</th>\n",
       "    </tr>\n",
       "  </thead>\n",
       "  <tbody>\n",
       "    <tr>\n",
       "      <th>0</th>\n",
       "      <td>161539</td>\n",
       "      <td>2016-12-27 14:17:05</td>\n",
       "      <td>Ботинки демисезонные, р.37</td>\n",
       "      <td>600</td>\n",
       "      <td>4610800469053457977</td>\n",
       "      <td>Private</td>\n",
       "      <td>Личные вещи</td>\n",
       "      <td>Детская одежда и обувь</td>\n",
       "      <td>Для мальчиков</td>\n",
       "      <td>Обувь</td>\n",
       "      <td>&gt; 36</td>\n",
       "      <td>Челябинская область</td>\n",
       "    </tr>\n",
       "    <tr>\n",
       "      <th>1</th>\n",
       "      <td>72401</td>\n",
       "      <td>2016-12-26 23:07:52</td>\n",
       "      <td>Туфли</td>\n",
       "      <td>500</td>\n",
       "      <td>167053365292217626</td>\n",
       "      <td>Private</td>\n",
       "      <td>Личные вещи</td>\n",
       "      <td>Детская одежда и обувь</td>\n",
       "      <td>Для мальчиков</td>\n",
       "      <td>Обувь</td>\n",
       "      <td>&gt; 36</td>\n",
       "      <td>Волгоградская область</td>\n",
       "    </tr>\n",
       "    <tr>\n",
       "      <th>2</th>\n",
       "      <td>387692</td>\n",
       "      <td>2016-12-27 16:15:48</td>\n",
       "      <td>Cноубутсы новые 38р. по стельке 36 см. (больше...</td>\n",
       "      <td>1700</td>\n",
       "      <td>6201427797126202158</td>\n",
       "      <td>Company</td>\n",
       "      <td>Личные вещи</td>\n",
       "      <td>Детская одежда и обувь</td>\n",
       "      <td>Для мальчиков</td>\n",
       "      <td>Обувь</td>\n",
       "      <td>&gt; 36</td>\n",
       "      <td>Нижегородская область</td>\n",
       "    </tr>\n",
       "    <tr>\n",
       "      <th>3</th>\n",
       "      <td>163041</td>\n",
       "      <td>2016-12-26 17:28:05</td>\n",
       "      <td>Зимние ботинки</td>\n",
       "      <td>400</td>\n",
       "      <td>3709484910019914672</td>\n",
       "      <td>Private</td>\n",
       "      <td>Личные вещи</td>\n",
       "      <td>Детская одежда и обувь</td>\n",
       "      <td>Для мальчиков</td>\n",
       "      <td>Обувь</td>\n",
       "      <td>&gt; 36</td>\n",
       "      <td>Москва</td>\n",
       "    </tr>\n",
       "    <tr>\n",
       "      <th>4</th>\n",
       "      <td>367881</td>\n",
       "      <td>2016-12-26 20:43:19</td>\n",
       "      <td>Сандали новые</td>\n",
       "      <td>500</td>\n",
       "      <td>8208136942732978933</td>\n",
       "      <td>Company</td>\n",
       "      <td>Личные вещи</td>\n",
       "      <td>Детская одежда и обувь</td>\n",
       "      <td>Для мальчиков</td>\n",
       "      <td>Обувь</td>\n",
       "      <td>&gt; 36</td>\n",
       "      <td>Нижегородская область</td>\n",
       "    </tr>\n",
       "  </tbody>\n",
       "</table>\n",
       "</div>"
      ],
      "text/plain": [
       "       id          start_time  \\\n",
       "0  161539 2016-12-27 14:17:05   \n",
       "1   72401 2016-12-26 23:07:52   \n",
       "2  387692 2016-12-27 16:15:48   \n",
       "3  163041 2016-12-26 17:28:05   \n",
       "4  367881 2016-12-26 20:43:19   \n",
       "\n",
       "                                               title  price  \\\n",
       "0                         Ботинки демисезонные, р.37    600   \n",
       "1                                              Туфли    500   \n",
       "2  Cноубутсы новые 38р. по стельке 36 см. (больше...   1700   \n",
       "3                                     Зимние ботинки    400   \n",
       "4                                      Сандали новые    500   \n",
       "\n",
       "               item_id owner_type     category             subcategory  \\\n",
       "0  4610800469053457977    Private  Личные вещи  Детская одежда и обувь   \n",
       "1   167053365292217626    Private  Личные вещи  Детская одежда и обувь   \n",
       "2  6201427797126202158    Company  Личные вещи  Детская одежда и обувь   \n",
       "3  3709484910019914672    Private  Личные вещи  Детская одежда и обувь   \n",
       "4  8208136942732978933    Company  Личные вещи  Детская одежда и обувь   \n",
       "\n",
       "          param1 param2 param3                 region  \n",
       "0  Для мальчиков  Обувь   > 36    Челябинская область  \n",
       "1  Для мальчиков  Обувь   > 36  Волгоградская область  \n",
       "2  Для мальчиков  Обувь   > 36  Нижегородская область  \n",
       "3  Для мальчиков  Обувь   > 36                 Москва  \n",
       "4  Для мальчиков  Обувь   > 36  Нижегородская область  "
      ]
     },
     "execution_count": 4,
     "metadata": {},
     "output_type": "execute_result"
    }
   ],
   "source": [
    "data_test.head()"
   ]
  },
  {
   "cell_type": "code",
   "execution_count": 6,
   "metadata": {
    "ExecuteTime": {
     "end_time": "2019-04-30T13:34:22.192670Z",
     "start_time": "2019-04-30T13:34:22.004502Z"
    },
    "scrolled": true
   },
   "outputs": [
    {
     "data": {
      "text/html": [
       "<div>\n",
       "<style scoped>\n",
       "    .dataframe tbody tr th:only-of-type {\n",
       "        vertical-align: middle;\n",
       "    }\n",
       "\n",
       "    .dataframe tbody tr th {\n",
       "        vertical-align: top;\n",
       "    }\n",
       "\n",
       "    .dataframe thead th {\n",
       "        text-align: right;\n",
       "    }\n",
       "</style>\n",
       "<table border=\"1\" class=\"dataframe\">\n",
       "  <thead>\n",
       "    <tr style=\"text-align: right;\">\n",
       "      <th></th>\n",
       "      <th>id</th>\n",
       "      <th>price</th>\n",
       "      <th>item_id</th>\n",
       "      <th>item_views</th>\n",
       "    </tr>\n",
       "  </thead>\n",
       "  <tbody>\n",
       "    <tr>\n",
       "      <th>count</th>\n",
       "      <td>376687.000000</td>\n",
       "      <td>3.766870e+05</td>\n",
       "      <td>3.766870e+05</td>\n",
       "      <td>376687.000000</td>\n",
       "    </tr>\n",
       "    <tr>\n",
       "      <th>mean</th>\n",
       "      <td>211784.700144</td>\n",
       "      <td>2.465498e+05</td>\n",
       "      <td>4.606439e+18</td>\n",
       "      <td>3.483459</td>\n",
       "    </tr>\n",
       "    <tr>\n",
       "      <th>std</th>\n",
       "      <td>122355.459807</td>\n",
       "      <td>1.126163e+07</td>\n",
       "      <td>2.663233e+18</td>\n",
       "      <td>1.019757</td>\n",
       "    </tr>\n",
       "    <tr>\n",
       "      <th>min</th>\n",
       "      <td>0.000000</td>\n",
       "      <td>0.000000e+00</td>\n",
       "      <td>6.694595e+13</td>\n",
       "      <td>0.000000</td>\n",
       "    </tr>\n",
       "    <tr>\n",
       "      <th>25%</th>\n",
       "      <td>105786.500000</td>\n",
       "      <td>5.000000e+02</td>\n",
       "      <td>2.296781e+18</td>\n",
       "      <td>2.708050</td>\n",
       "    </tr>\n",
       "    <tr>\n",
       "      <th>50%</th>\n",
       "      <td>211758.000000</td>\n",
       "      <td>2.000000e+03</td>\n",
       "      <td>4.606254e+18</td>\n",
       "      <td>3.367296</td>\n",
       "    </tr>\n",
       "    <tr>\n",
       "      <th>75%</th>\n",
       "      <td>317745.500000</td>\n",
       "      <td>9.990000e+03</td>\n",
       "      <td>6.912617e+18</td>\n",
       "      <td>4.094345</td>\n",
       "    </tr>\n",
       "    <tr>\n",
       "      <th>max</th>\n",
       "      <td>423771.000000</td>\n",
       "      <td>5.677568e+09</td>\n",
       "      <td>9.223325e+18</td>\n",
       "      <td>8.328693</td>\n",
       "    </tr>\n",
       "  </tbody>\n",
       "</table>\n",
       "</div>"
      ],
      "text/plain": [
       "                  id         price       item_id     item_views\n",
       "count  376687.000000  3.766870e+05  3.766870e+05  376687.000000\n",
       "mean   211784.700144  2.465498e+05  4.606439e+18       3.483459\n",
       "std    122355.459807  1.126163e+07  2.663233e+18       1.019757\n",
       "min         0.000000  0.000000e+00  6.694595e+13       0.000000\n",
       "25%    105786.500000  5.000000e+02  2.296781e+18       2.708050\n",
       "50%    211758.000000  2.000000e+03  4.606254e+18       3.367296\n",
       "75%    317745.500000  9.990000e+03  6.912617e+18       4.094345\n",
       "max    423771.000000  5.677568e+09  9.223325e+18       8.328693"
      ]
     },
     "execution_count": 6,
     "metadata": {},
     "output_type": "execute_result"
    }
   ],
   "source": [
    "data_train.describe()"
   ]
  },
  {
   "cell_type": "code",
   "execution_count": 7,
   "metadata": {
    "ExecuteTime": {
     "end_time": "2019-04-30T13:34:22.395138Z",
     "start_time": "2019-04-30T13:34:22.194550Z"
    }
   },
   "outputs": [
    {
     "name": "stdout",
     "output_type": "stream",
     "text": [
      "<class 'pandas.core.frame.DataFrame'>\n",
      "RangeIndex: 376687 entries, 0 to 376686\n",
      "Data columns (total 13 columns):\n",
      "id             376687 non-null int64\n",
      "start_time     376687 non-null datetime64[ns]\n",
      "title          376687 non-null object\n",
      "price          376687 non-null int64\n",
      "item_id        376687 non-null int64\n",
      "owner_type     376687 non-null object\n",
      "category       376687 non-null object\n",
      "subcategory    376687 non-null object\n",
      "param1         361456 non-null object\n",
      "param2         196112 non-null object\n",
      "param3         147746 non-null object\n",
      "region         376687 non-null object\n",
      "item_views     376687 non-null float64\n",
      "dtypes: datetime64[ns](1), float64(1), int64(3), object(8)\n",
      "memory usage: 37.4+ MB\n"
     ]
    }
   ],
   "source": [
    "data_train.info()"
   ]
  },
  {
   "cell_type": "code",
   "execution_count": 8,
   "metadata": {
    "ExecuteTime": {
     "end_time": "2019-04-30T13:34:24.458888Z",
     "start_time": "2019-04-30T13:34:24.167634Z"
    }
   },
   "outputs": [],
   "source": [
    "data_train = data_train.fillna('nan')\n",
    "data_test = data_test.fillna('nan')"
   ]
  },
  {
   "cell_type": "code",
   "execution_count": 9,
   "metadata": {
    "ExecuteTime": {
     "end_time": "2019-04-30T13:34:24.979360Z",
     "start_time": "2019-04-30T13:34:24.795448Z"
    }
   },
   "outputs": [
    {
     "data": {
      "text/plain": [
       "False"
      ]
     },
     "execution_count": 9,
     "metadata": {},
     "output_type": "execute_result"
    }
   ],
   "source": [
    "np.any(data_train.isna())"
   ]
  },
  {
   "cell_type": "code",
   "execution_count": 10,
   "metadata": {
    "ExecuteTime": {
     "end_time": "2019-04-30T13:34:27.010354Z",
     "start_time": "2019-04-30T13:34:25.162149Z"
    }
   },
   "outputs": [],
   "source": [
    "f = lambda x: (x.hour * 60 + x.minute) / (24 * 60)\n",
    "data_train['relative_time'] = data_train.start_time.apply(f)\n",
    "data_test['relative_time'] = data_test.start_time.apply(f)"
   ]
  },
  {
   "cell_type": "code",
   "execution_count": 11,
   "metadata": {
    "ExecuteTime": {
     "end_time": "2019-04-30T13:34:28.939366Z",
     "start_time": "2019-04-30T13:34:27.012302Z"
    }
   },
   "outputs": [],
   "source": [
    "data_train['time_to_end'] = data_train.start_time.apply(lambda x: 24 - x.hour)\n",
    "data_test['time_to_end'] = data_test.start_time.apply(lambda x: 24 - x.hour)"
   ]
  },
  {
   "cell_type": "code",
   "execution_count": 12,
   "metadata": {
    "ExecuteTime": {
     "end_time": "2019-04-30T13:34:30.713303Z",
     "start_time": "2019-04-30T13:34:28.941514Z"
    }
   },
   "outputs": [],
   "source": [
    "data_train['slided_hours'] = data_train.start_time.apply(lambda x: ((x.hour - 3.5) % 24) * 1. / 24.)\n",
    "data_test['slided_hours'] = data_test.start_time.apply(lambda x: ((x.hour - 3.5) % 24) * 1. / 24.)"
   ]
  },
  {
   "cell_type": "code",
   "execution_count": 13,
   "metadata": {
    "ExecuteTime": {
     "end_time": "2019-04-30T13:34:30.719193Z",
     "start_time": "2019-04-30T13:34:30.715207Z"
    }
   },
   "outputs": [],
   "source": [
    "def make_harmonic_features(value, period=24):\n",
    "    value = (value / period) * 2 * np.pi\n",
    "    return np.cos(value), np.sin(value)"
   ]
  },
  {
   "cell_type": "code",
   "execution_count": 14,
   "metadata": {
    "ExecuteTime": {
     "end_time": "2019-04-30T13:34:36.351934Z",
     "start_time": "2019-04-30T13:34:30.720885Z"
    }
   },
   "outputs": [],
   "source": [
    "data_train['cos_time'] = data_train.start_time.apply(lambda x: make_harmonic_features(x.hour + x.minute / 60)[0])\n",
    "data_train['sin_time'] = data_train.start_time.apply(lambda x: make_harmonic_features(x.hour + x.minute / 60)[0])\n",
    "\n",
    "data_test['cos_time'] = data_test.start_time.apply(lambda x: make_harmonic_features(x.hour + x.minute / 60)[0])\n",
    "data_test['sin_time'] = data_test.start_time.apply(lambda x: make_harmonic_features(x.hour + x.minute / 60)[0])"
   ]
  },
  {
   "cell_type": "code",
   "execution_count": 15,
   "metadata": {
    "ExecuteTime": {
     "end_time": "2019-04-30T13:34:38.122107Z",
     "start_time": "2019-04-30T13:34:36.353602Z"
    }
   },
   "outputs": [],
   "source": [
    "data_train['week_day'] = data_train.start_time.apply(lambda x: x.isoweekday())\n",
    "data_test['week_day'] = data_test.start_time.apply(lambda x: x.isoweekday())"
   ]
  },
  {
   "cell_type": "code",
   "execution_count": 16,
   "metadata": {
    "ExecuteTime": {
     "end_time": "2019-04-30T13:34:38.236437Z",
     "start_time": "2019-04-30T13:34:38.124192Z"
    }
   },
   "outputs": [],
   "source": [
    "data_train = data_train.drop(['start_time'], axis=1)\n",
    "data_test = data_test.drop(['start_time'], axis=1)"
   ]
  },
  {
   "cell_type": "markdown",
   "metadata": {},
   "source": [
    "##### текст"
   ]
  },
  {
   "cell_type": "code",
   "execution_count": 17,
   "metadata": {
    "ExecuteTime": {
     "end_time": "2019-04-30T13:34:38.292463Z",
     "start_time": "2019-04-30T13:34:38.246742Z"
    }
   },
   "outputs": [],
   "source": [
    "# !pip install pymorphy2\n",
    "\n",
    "import re\n",
    "import pymorphy2\n",
    "from functools import lru_cache"
   ]
  },
  {
   "cell_type": "code",
   "execution_count": 18,
   "metadata": {
    "ExecuteTime": {
     "end_time": "2019-04-30T13:34:38.419765Z",
     "start_time": "2019-04-30T13:34:38.294938Z"
    }
   },
   "outputs": [],
   "source": [
    "morph = pymorphy2.MorphAnalyzer()"
   ]
  },
  {
   "cell_type": "code",
   "execution_count": 19,
   "metadata": {
    "ExecuteTime": {
     "end_time": "2019-04-30T13:34:38.434515Z",
     "start_time": "2019-04-30T13:34:38.421316Z"
    },
    "scrolled": true
   },
   "outputs": [
    {
     "data": {
      "text/plain": [
       "[Parse(word='сладенькая', tag=OpencorporaTag('ADJF femn,sing,nomn'), normal_form='сладенький', score=1.0, methods_stack=((<DictionaryAnalyzer>, 'сладенькая', 16, 7),))]"
      ]
     },
     "execution_count": 19,
     "metadata": {},
     "output_type": "execute_result"
    }
   ],
   "source": [
    "morph.parse('сладенькая')"
   ]
  },
  {
   "cell_type": "code",
   "execution_count": 20,
   "metadata": {
    "ExecuteTime": {
     "end_time": "2019-04-30T13:34:38.446957Z",
     "start_time": "2019-04-30T13:34:38.437879Z"
    }
   },
   "outputs": [
    {
     "data": {
      "text/plain": [
       "[Parse(word='сладенький', tag=OpencorporaTag('ADJF masc,sing,nomn'), normal_form='сладенький', score=1.0, methods_stack=((<DictionaryAnalyzer>, 'сладенький', 16, 0),)),\n",
       " Parse(word='сладенького', tag=OpencorporaTag('ADJF masc,sing,gent'), normal_form='сладенький', score=1.0, methods_stack=((<DictionaryAnalyzer>, 'сладенького', 16, 1),)),\n",
       " Parse(word='сладенькому', tag=OpencorporaTag('ADJF masc,sing,datv'), normal_form='сладенький', score=1.0, methods_stack=((<DictionaryAnalyzer>, 'сладенькому', 16, 2),)),\n",
       " Parse(word='сладенького', tag=OpencorporaTag('ADJF anim,masc,sing,accs'), normal_form='сладенький', score=1.0, methods_stack=((<DictionaryAnalyzer>, 'сладенького', 16, 3),)),\n",
       " Parse(word='сладенький', tag=OpencorporaTag('ADJF inan,masc,sing,accs'), normal_form='сладенький', score=1.0, methods_stack=((<DictionaryAnalyzer>, 'сладенький', 16, 4),)),\n",
       " Parse(word='сладеньким', tag=OpencorporaTag('ADJF masc,sing,ablt'), normal_form='сладенький', score=1.0, methods_stack=((<DictionaryAnalyzer>, 'сладеньким', 16, 5),)),\n",
       " Parse(word='сладеньком', tag=OpencorporaTag('ADJF masc,sing,loct'), normal_form='сладенький', score=1.0, methods_stack=((<DictionaryAnalyzer>, 'сладеньком', 16, 6),)),\n",
       " Parse(word='сладенькая', tag=OpencorporaTag('ADJF femn,sing,nomn'), normal_form='сладенький', score=1.0, methods_stack=((<DictionaryAnalyzer>, 'сладенькая', 16, 7),)),\n",
       " Parse(word='сладенькой', tag=OpencorporaTag('ADJF femn,sing,gent'), normal_form='сладенький', score=1.0, methods_stack=((<DictionaryAnalyzer>, 'сладенькой', 16, 8),)),\n",
       " Parse(word='сладенькой', tag=OpencorporaTag('ADJF femn,sing,datv'), normal_form='сладенький', score=1.0, methods_stack=((<DictionaryAnalyzer>, 'сладенькой', 16, 9),)),\n",
       " Parse(word='сладенькую', tag=OpencorporaTag('ADJF femn,sing,accs'), normal_form='сладенький', score=1.0, methods_stack=((<DictionaryAnalyzer>, 'сладенькую', 16, 10),)),\n",
       " Parse(word='сладенькой', tag=OpencorporaTag('ADJF femn,sing,ablt'), normal_form='сладенький', score=1.0, methods_stack=((<DictionaryAnalyzer>, 'сладенькой', 16, 11),)),\n",
       " Parse(word='сладенькою', tag=OpencorporaTag('ADJF femn,sing,ablt,V-oy'), normal_form='сладенький', score=1.0, methods_stack=((<DictionaryAnalyzer>, 'сладенькою', 16, 12),)),\n",
       " Parse(word='сладенькой', tag=OpencorporaTag('ADJF femn,sing,loct'), normal_form='сладенький', score=1.0, methods_stack=((<DictionaryAnalyzer>, 'сладенькой', 16, 13),)),\n",
       " Parse(word='сладенькое', tag=OpencorporaTag('ADJF neut,sing,nomn'), normal_form='сладенький', score=1.0, methods_stack=((<DictionaryAnalyzer>, 'сладенькое', 16, 14),)),\n",
       " Parse(word='сладенького', tag=OpencorporaTag('ADJF neut,sing,gent'), normal_form='сладенький', score=1.0, methods_stack=((<DictionaryAnalyzer>, 'сладенького', 16, 15),)),\n",
       " Parse(word='сладенькому', tag=OpencorporaTag('ADJF neut,sing,datv'), normal_form='сладенький', score=1.0, methods_stack=((<DictionaryAnalyzer>, 'сладенькому', 16, 16),)),\n",
       " Parse(word='сладенькое', tag=OpencorporaTag('ADJF neut,sing,accs'), normal_form='сладенький', score=1.0, methods_stack=((<DictionaryAnalyzer>, 'сладенькое', 16, 17),)),\n",
       " Parse(word='сладеньким', tag=OpencorporaTag('ADJF neut,sing,ablt'), normal_form='сладенький', score=1.0, methods_stack=((<DictionaryAnalyzer>, 'сладеньким', 16, 18),)),\n",
       " Parse(word='сладеньком', tag=OpencorporaTag('ADJF neut,sing,loct'), normal_form='сладенький', score=1.0, methods_stack=((<DictionaryAnalyzer>, 'сладеньком', 16, 19),)),\n",
       " Parse(word='сладенькие', tag=OpencorporaTag('ADJF plur,nomn'), normal_form='сладенький', score=1.0, methods_stack=((<DictionaryAnalyzer>, 'сладенькие', 16, 20),)),\n",
       " Parse(word='сладеньких', tag=OpencorporaTag('ADJF plur,gent'), normal_form='сладенький', score=1.0, methods_stack=((<DictionaryAnalyzer>, 'сладеньких', 16, 21),)),\n",
       " Parse(word='сладеньким', tag=OpencorporaTag('ADJF plur,datv'), normal_form='сладенький', score=1.0, methods_stack=((<DictionaryAnalyzer>, 'сладеньким', 16, 22),)),\n",
       " Parse(word='сладеньких', tag=OpencorporaTag('ADJF anim,plur,accs'), normal_form='сладенький', score=1.0, methods_stack=((<DictionaryAnalyzer>, 'сладеньких', 16, 23),)),\n",
       " Parse(word='сладенькие', tag=OpencorporaTag('ADJF inan,plur,accs'), normal_form='сладенький', score=1.0, methods_stack=((<DictionaryAnalyzer>, 'сладенькие', 16, 24),)),\n",
       " Parse(word='сладенькими', tag=OpencorporaTag('ADJF plur,ablt'), normal_form='сладенький', score=1.0, methods_stack=((<DictionaryAnalyzer>, 'сладенькими', 16, 25),)),\n",
       " Parse(word='сладеньких', tag=OpencorporaTag('ADJF plur,loct'), normal_form='сладенький', score=1.0, methods_stack=((<DictionaryAnalyzer>, 'сладеньких', 16, 26),))]"
      ]
     },
     "execution_count": 20,
     "metadata": {},
     "output_type": "execute_result"
    }
   ],
   "source": [
    "morph.get_lexeme(morph.parse('сладенькая')[0])"
   ]
  },
  {
   "cell_type": "code",
   "execution_count": 21,
   "metadata": {
    "ExecuteTime": {
     "end_time": "2019-04-30T13:34:38.458770Z",
     "start_time": "2019-04-30T13:34:38.454066Z"
    },
    "scrolled": true
   },
   "outputs": [
    {
     "data": {
      "text/plain": [
       "(['чехол'], ['сладкий'])"
      ]
     },
     "execution_count": 21,
     "metadata": {},
     "output_type": "execute_result"
    }
   ],
   "source": [
    "morph.normal_forms('чехлы'), morph.normal_forms('сладкая')"
   ]
  },
  {
   "cell_type": "code",
   "execution_count": null,
   "metadata": {},
   "outputs": [],
   "source": []
  },
  {
   "cell_type": "code",
   "execution_count": 22,
   "metadata": {
    "ExecuteTime": {
     "end_time": "2019-04-30T13:34:38.471794Z",
     "start_time": "2019-04-30T13:34:38.461502Z"
    }
   },
   "outputs": [],
   "source": [
    "@lru_cache(maxsize=150000) # с кешом!\n",
    "def get_normal_form (i):\n",
    "    return morph.normal_forms(i)[0]\n",
    "\n",
    "def normalize_text(x):\n",
    "    return ' '.join([get_normal_form(i) for i in re.findall('\\w+', x)])"
   ]
  },
  {
   "cell_type": "code",
   "execution_count": 23,
   "metadata": {
    "ExecuteTime": {
     "end_time": "2019-04-30T13:34:38.490938Z",
     "start_time": "2019-04-30T13:34:38.474665Z"
    }
   },
   "outputs": [
    {
     "data": {
      "text/plain": [
       "'детский одежда и обувь'"
      ]
     },
     "execution_count": 23,
     "metadata": {},
     "output_type": "execute_result"
    }
   ],
   "source": [
    "normalize_text('Детская одежда и обувь')"
   ]
  },
  {
   "cell_type": "code",
   "execution_count": 24,
   "metadata": {
    "ExecuteTime": {
     "end_time": "2019-04-30T13:34:38.499615Z",
     "start_time": "2019-04-30T13:34:38.494368Z"
    }
   },
   "outputs": [],
   "source": [
    "from multiprocessing import Pool"
   ]
  },
  {
   "cell_type": "code",
   "execution_count": 25,
   "metadata": {
    "ExecuteTime": {
     "end_time": "2019-04-30T13:35:06.140037Z",
     "start_time": "2019-04-30T13:34:38.502826Z"
    }
   },
   "outputs": [
    {
     "name": "stdout",
     "output_type": "stream",
     "text": [
      "CPU times: user 475 ms, sys: 147 ms, total: 622 ms\n",
      "Wall time: 27.6 s\n"
     ]
    }
   ],
   "source": [
    "%%time\n",
    "with Pool(processes=4) as pool:\n",
    "    data_train['title'] = pool.map(normalize_text, data_train.title)\n",
    "    data_test['title'] = pool.map(normalize_text, data_test.title)\n",
    "    pool.terminate()"
   ]
  },
  {
   "cell_type": "markdown",
   "metadata": {},
   "source": [
    "##### Куча категориальных признаков"
   ]
  },
  {
   "cell_type": "code",
   "execution_count": 26,
   "metadata": {
    "ExecuteTime": {
     "end_time": "2019-04-30T13:35:07.041568Z",
     "start_time": "2019-04-30T13:35:06.144245Z"
    }
   },
   "outputs": [],
   "source": [
    "# конкатенация строк\n",
    "data_train['all_params'] = data_train.param1 + ' ' + data_train.param2 + ' ' + data_train.param3\n",
    "data_train['params_12'] = data_train.param1 + ' ' + data_train.param2\n",
    "data_train['params_23'] = data_train.param2 + ' ' + data_train.param3\n",
    "data_train['category_and_owner_type'] = data_train.owner_type + ' ' + data_train.category\n",
    "data_train['category_and_region'] = data_train.region + ' ' + data_train.category\n",
    "data_train['owner_type_and_region'] = data_train.owner_type + ' ' + data_train.category\n",
    "\n",
    "data_test['all_params'] = data_test.param1 + ' ' + data_test.param2 + ' ' + data_test.param3\n",
    "data_test['params_12'] = data_test.param1 + ' ' + data_test.param2\n",
    "data_test['params_23'] = data_test.param2 + ' ' + data_test.param3\n",
    "data_test['category_and_owner_type'] = data_test.owner_type + ' ' + data_test.category\n",
    "data_test['category_and_region'] = data_test.region + ' ' + data_test.category\n",
    "data_test['owner_type_and_region'] = data_test.owner_type + ' ' + data_test.category\n",
    "\n",
    "str_cols = ['owner_type', 'title',\n",
    "            'param1', 'param2', 'param3',\n",
    "            'region', 'category' , 'subcategory', \n",
    "            'params_12', 'params_23', 'all_params',\n",
    "            'category_and_owner_type',\n",
    "            'category_and_region', 'owner_type_and_region'\n",
    "           ]"
   ]
  },
  {
   "cell_type": "code",
   "execution_count": 27,
   "metadata": {
    "ExecuteTime": {
     "end_time": "2019-04-30T13:35:07.047906Z",
     "start_time": "2019-04-30T13:35:07.044324Z"
    }
   },
   "outputs": [],
   "source": [
    "pd.options.display.max_columns = 50"
   ]
  },
  {
   "cell_type": "code",
   "execution_count": 28,
   "metadata": {
    "ExecuteTime": {
     "end_time": "2019-04-30T13:35:07.085144Z",
     "start_time": "2019-04-30T13:35:07.053329Z"
    }
   },
   "outputs": [
    {
     "data": {
      "text/plain": [
       "Index(['id', 'title', 'price', 'item_id', 'owner_type', 'category',\n",
       "       'subcategory', 'param1', 'param2', 'param3', 'region', 'item_views',\n",
       "       'relative_time', 'time_to_end', 'slided_hours', 'cos_time', 'sin_time',\n",
       "       'week_day', 'all_params', 'params_12', 'params_23',\n",
       "       'category_and_owner_type', 'category_and_region',\n",
       "       'owner_type_and_region'],\n",
       "      dtype='object')"
      ]
     },
     "execution_count": 28,
     "metadata": {},
     "output_type": "execute_result"
    }
   ],
   "source": [
    "data_train.columns"
   ]
  },
  {
   "cell_type": "code",
   "execution_count": 29,
   "metadata": {
    "ExecuteTime": {
     "end_time": "2019-04-30T13:35:08.789495Z",
     "start_time": "2019-04-30T13:35:07.088130Z"
    }
   },
   "outputs": [],
   "source": [
    "X_train, y_train = data_train.drop(['item_views', 'id', 'item_id'], axis=1), data_train['item_views'].values\n",
    "X_test = data_test.drop(['id', 'item_id'], axis=1)"
   ]
  },
  {
   "cell_type": "code",
   "execution_count": 30,
   "metadata": {
    "ExecuteTime": {
     "end_time": "2019-04-30T13:35:08.805808Z",
     "start_time": "2019-04-30T13:35:08.791796Z"
    }
   },
   "outputs": [],
   "source": [
    "def _counter_encoder(dt, str_cols, counter_Encoders, is_train=True):\n",
    "    \"\"\"\n",
    "    Counter Encoder.\n",
    "    \"\"\"\n",
    "    if is_train:\n",
    "        counter_Encoders = {col:dt[col].value_counts().to_dict() for col in str_cols}\n",
    "        \n",
    "    for column in str_cols:\n",
    "        dt[column+'_enc_by_count'] = dt[column].apply(lambda x: counter_Encoders[column].get(x, 0))\n",
    "        \n",
    "    return counter_Encoders"
   ]
  },
  {
   "cell_type": "code",
   "execution_count": 31,
   "metadata": {
    "ExecuteTime": {
     "end_time": "2019-04-30T13:35:13.552496Z",
     "start_time": "2019-04-30T13:35:08.811533Z"
    }
   },
   "outputs": [],
   "source": [
    "counter_Encoders = _counter_encoder(X_train, str_cols=str_cols, counter_Encoders=None, is_train=True)"
   ]
  },
  {
   "cell_type": "code",
   "execution_count": 32,
   "metadata": {
    "ExecuteTime": {
     "end_time": "2019-04-30T13:35:13.994438Z",
     "start_time": "2019-04-30T13:35:13.554709Z"
    }
   },
   "outputs": [],
   "source": [
    "_ = _counter_encoder(X_test, str_cols=str_cols, counter_Encoders=counter_Encoders, is_train=False)"
   ]
  },
  {
   "cell_type": "code",
   "execution_count": 33,
   "metadata": {
    "ExecuteTime": {
     "end_time": "2019-04-30T13:35:14.171921Z",
     "start_time": "2019-04-30T13:35:13.996276Z"
    }
   },
   "outputs": [],
   "source": [
    "# выкинем не интересное\n",
    "\n",
    "X_train = X_train.drop(str_cols, axis=1)\n",
    "X_test = X_test.drop(str_cols, axis=1)"
   ]
  },
  {
   "cell_type": "markdown",
   "metadata": {
    "collapsed": true
   },
   "source": [
    "____________-"
   ]
  },
  {
   "cell_type": "markdown",
   "metadata": {},
   "source": [
    "> Как запустить XGBoost?"
   ]
  },
  {
   "cell_type": "raw",
   "metadata": {},
   "source": []
  },
  {
   "cell_type": "markdown",
   "metadata": {},
   "source": [
    "https://xgboost.readthedocs.io/en/latest/parameter.html"
   ]
  },
  {
   "cell_type": "code",
   "execution_count": 60,
   "metadata": {
    "ExecuteTime": {
     "end_time": "2019-04-30T13:45:33.218930Z",
     "start_time": "2019-04-30T13:45:33.198439Z"
    }
   },
   "outputs": [],
   "source": [
    "xgb_params = {\n",
    "    'objective': 'reg:linear',\n",
    "    'max_depth': 5,\n",
    "    'eta': 0.12,\n",
    "    'booster': 'gbtree',\n",
    "    \n",
    "    'alpha': 2.0,\n",
    "    'lambda': 0.1,\n",
    "    \n",
    "    'subsample': 0.9,\n",
    "    'colsample_bytree': 0.9,\n",
    "    'colsample_bylevel': 1.0,\n",
    "    \n",
    "    'silent': 1,\n",
    "    'seed': 1,\n",
    "    'nthread': 4,\n",
    "    'eval_metric':'rmse'\n",
    "}\n",
    "\n",
    "num_rounds = 150"
   ]
  },
  {
   "cell_type": "code",
   "execution_count": 61,
   "metadata": {
    "ExecuteTime": {
     "end_time": "2019-04-30T13:45:33.382762Z",
     "start_time": "2019-04-30T13:45:33.375423Z"
    }
   },
   "outputs": [],
   "source": [
    "from sklearn.model_selection import train_test_split"
   ]
  },
  {
   "cell_type": "code",
   "execution_count": 62,
   "metadata": {
    "ExecuteTime": {
     "end_time": "2019-04-30T13:45:33.954660Z",
     "start_time": "2019-04-30T13:45:33.777717Z"
    }
   },
   "outputs": [],
   "source": [
    "X_sub_train, X_sub_train_test, y_sub_train, y_sub_train_test = train_test_split(\n",
    "                        X_train, y_train, test_size=0.10, random_state=42)"
   ]
  },
  {
   "cell_type": "code",
   "execution_count": 63,
   "metadata": {
    "ExecuteTime": {
     "end_time": "2019-04-30T13:45:33.964704Z",
     "start_time": "2019-04-30T13:45:33.956922Z"
    }
   },
   "outputs": [],
   "source": [
    "import xgboost as xgb"
   ]
  },
  {
   "cell_type": "code",
   "execution_count": 64,
   "metadata": {
    "ExecuteTime": {
     "end_time": "2019-04-30T13:46:54.434152Z",
     "start_time": "2019-04-30T13:45:34.100327Z"
    }
   },
   "outputs": [
    {
     "name": "stdout",
     "output_type": "stream",
     "text": [
      "[0]\ttrain-rmse:2.79725\teval-rmse:2.80595\n",
      "Multiple eval metrics have been passed: 'eval-rmse' will be used for early stopping.\n",
      "\n",
      "Will train until eval-rmse hasn't improved in 5 rounds.\n",
      "[10]\ttrain-rmse:1.04085\teval-rmse:1.04942\n",
      "[20]\ttrain-rmse:0.723153\teval-rmse:0.731146\n",
      "[30]\ttrain-rmse:0.679588\teval-rmse:0.687189\n",
      "[40]\ttrain-rmse:0.662758\teval-rmse:0.670162\n",
      "[50]\ttrain-rmse:0.654801\teval-rmse:0.661955\n",
      "[60]\ttrain-rmse:0.64846\teval-rmse:0.655661\n",
      "[70]\ttrain-rmse:0.642452\teval-rmse:0.649431\n",
      "[80]\ttrain-rmse:0.638279\teval-rmse:0.644857\n",
      "[90]\ttrain-rmse:0.634424\teval-rmse:0.6411\n",
      "[100]\ttrain-rmse:0.631176\teval-rmse:0.638015\n",
      "[110]\ttrain-rmse:0.628247\teval-rmse:0.635274\n",
      "[120]\ttrain-rmse:0.625671\teval-rmse:0.632813\n",
      "[130]\ttrain-rmse:0.62375\teval-rmse:0.631119\n",
      "[140]\ttrain-rmse:0.621735\teval-rmse:0.629324\n"
     ]
    }
   ],
   "source": [
    "dtrain = xgb.DMatrix( X_sub_train.values, label=y_sub_train, feature_names=X_sub_train.columns )\n",
    "dtest = xgb.DMatrix( X_sub_train_test.values, label=y_sub_train_test, feature_names=X_sub_train_test.columns )\n",
    "\n",
    "watchlist = [(dtrain, 'train'), (dtest, 'eval')]\n",
    "eval_res ={}\n",
    "gbdt = xgb.train(xgb_params, dtrain,\n",
    "                 num_rounds, watchlist,\n",
    "                 early_stopping_rounds=5,\n",
    "                 verbose_eval=10,\n",
    "                 evals_result=eval_res)\n"
   ]
  },
  {
   "cell_type": "code",
   "execution_count": 65,
   "metadata": {
    "ExecuteTime": {
     "end_time": "2019-04-30T13:46:55.242966Z",
     "start_time": "2019-04-30T13:46:54.440103Z"
    }
   },
   "outputs": [
    {
     "data": {
      "text/plain": [
       "<matplotlib.axes._subplots.AxesSubplot at 0x7fa58d6a5b00>"
      ]
     },
     "execution_count": 65,
     "metadata": {},
     "output_type": "execute_result"
    },
    {
     "data": {
      "image/png": "[encoded data removed]",
      "text/plain": [
       "<Figure size 432x288 with 1 Axes>"
      ]
     },
     "metadata": {},
     "output_type": "display_data"
    }
   ],
   "source": [
    "xgb.plot_importance(gbdt, importance_type='gain')"
   ]
  },
  {
   "cell_type": "code",
   "execution_count": 66,
   "metadata": {
    "ExecuteTime": {
     "end_time": "2019-04-30T13:46:56.000727Z",
     "start_time": "2019-04-30T13:46:55.248252Z"
    }
   },
   "outputs": [],
   "source": [
    "dtest_final = xgb.DMatrix( X_test.values, feature_names=X_test.columns )\n",
    "\n",
    "y_pred = gbdt.predict(dtest_final)\n",
    "\n",
    "pd.DataFrame({'id': data_test.id, 'item_views':y_pred}).to_csv('my_sample_pred1.csv', index=None)"
   ]
  },
  {
   "cell_type": "markdown",
   "metadata": {},
   "source": [
    "> долго. Как можно лучше? (попробовать подобрать параметры на подвыборке !но увеличить subsamples)\n",
    "\n",
    "фиксируем число деревьев, глубину и подбираем ленинг рейт. (по дефолту в нем уже есть регуляризация)\n",
    "\n",
    "после подбора можно уже слегка побороться за уменьшение дисперсии  (если у вас очень шумные данные покрутить лямбду и альфу) \n",
    "покрутить сабсемплы по выборке, сабфичи по уровням и деревьям.\n",
    "(не забудь зафиксировать seed для воспроизводимости если используются subsamples.)"
   ]
  },
  {
   "cell_type": "markdown",
   "metadata": {},
   "source": [
    "##### Можно Лучше. Градиентный бустинг хорош когда признаки разной природы"
   ]
  },
  {
   "cell_type": "code",
   "execution_count": 71,
   "metadata": {},
   "outputs": [],
   "source": []
  },
  {
   "cell_type": "code",
   "execution_count": null,
   "metadata": {
    "collapsed": true
   },
   "outputs": [],
   "source": []
  }
 ],
 "metadata": {
  "kernelspec": {
   "display_name": "Python 3",
   "language": "python",
   "name": "python3"
  },
  "language_info": {
   "codemirror_mode": {
    "name": "ipython",
    "version": 3
   },
   "file_extension": ".py",
   "mimetype": "text/x-python",
   "name": "python",
   "nbconvert_exporter": "python",
   "pygments_lexer": "ipython3",
   "version": "3.6.1"
  }
 },
 "nbformat": 4,
 "nbformat_minor": 2
}
