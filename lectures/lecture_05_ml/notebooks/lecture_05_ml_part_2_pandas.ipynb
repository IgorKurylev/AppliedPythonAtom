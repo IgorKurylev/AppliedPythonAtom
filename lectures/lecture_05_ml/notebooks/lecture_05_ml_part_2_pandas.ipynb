{
 "cells": [
  {
   "cell_type": "code",
   "execution_count": 1,
   "metadata": {
    "ExecuteTime": {
     "end_time": "2019-04-01T17:17:49.947019Z",
     "start_time": "2019-04-01T17:17:49.422222Z"
    }
   },
   "outputs": [],
   "source": [
    "import numpy as np\n",
    "import pandas as pd"
   ]
  },
  {
   "cell_type": "markdown",
   "metadata": {},
   "source": [
    "Pandas — программная библиотека на языке Python для обработки и анализа данных. Работа pandas с данными строится поверх библиотеки NumPy."
   ]
  },
  {
   "cell_type": "markdown",
   "metadata": {},
   "source": [
    "Мы сейчас рассмотрим следующее: \n",
    "    - посмотрим два объекта из библиотеки pandas: Series и DataFrame.\n",
    "    - пощупаем что это вообще такое."
   ]
  },
  {
   "cell_type": "raw",
   "metadata": {},
   "source": [
    "Series - объект похожий на list в питоне, он упорядочен и туда можно положить что угодно)\n",
    "Однако на деле объект Series больше похож на упорядоченный словарь OrderedDict, \n",
    "тк у Series помимо значений есть еще и индексы."
   ]
  },
  {
   "cell_type": "code",
   "execution_count": 2,
   "metadata": {},
   "outputs": [],
   "source": [
    "a = pd.Series(data=['амир', 'миша', 'илья', 'зарина', 'игорь'])"
   ]
  },
  {
   "cell_type": "code",
   "execution_count": 3,
   "metadata": {},
   "outputs": [
    {
     "data": {
      "text/plain": [
       "0      амир\n",
       "1      миша\n",
       "2      илья\n",
       "3    зарина\n",
       "4     игорь\n",
       "dtype: object"
      ]
     },
     "execution_count": 3,
     "metadata": {},
     "output_type": "execute_result"
    }
   ],
   "source": [
    "# в строковом представлении в столбце слева - индексы, справа - значения.\n",
    "a"
   ]
  },
  {
   "cell_type": "code",
   "execution_count": null,
   "metadata": {
    "collapsed": true
   },
   "outputs": [],
   "source": [
    "# мы можем создавать серии со своей индексацией\n",
    "\n",
    "a = pd.Series(data=['амир', 'миша', 'илья', 'зарина', 'игорь'], \n",
    "              index=[101,102,103,104,105])"
   ]
  },
  {
   "cell_type": "code",
   "execution_count": null,
   "metadata": {},
   "outputs": [],
   "source": [
    "# и обращаться по индексу\n",
    "\n",
    "a[103]"
   ]
  },
  {
   "cell_type": "code",
   "execution_count": null,
   "metadata": {},
   "outputs": [],
   "source": [
    "# внутри все хранится в виде np.array\n",
    "\n",
    "a.values"
   ]
  },
  {
   "cell_type": "code",
   "execution_count": null,
   "metadata": {},
   "outputs": [],
   "source": [
    "a.index"
   ]
  },
  {
   "cell_type": "code",
   "execution_count": null,
   "metadata": {
    "ExecuteTime": {
     "end_time": "2019-04-01T17:25:54.483166Z",
     "start_time": "2019-04-01T17:25:54.475768Z"
    },
    "collapsed": true
   },
   "outputs": [],
   "source": [
    "# мы можем создать Series вот так:\n",
    "\n",
    "a = pd.Series({'a': 1, 'b': 2, 'c': 3, 'd': 4})"
   ]
  },
  {
   "cell_type": "code",
   "execution_count": null,
   "metadata": {
    "ExecuteTime": {
     "end_time": "2019-04-01T17:25:54.762994Z",
     "start_time": "2019-04-01T17:25:54.755210Z"
    }
   },
   "outputs": [],
   "source": [
    "a"
   ]
  },
  {
   "cell_type": "code",
   "execution_count": null,
   "metadata": {
    "ExecuteTime": {
     "end_time": "2019-04-01T17:25:54.944886Z",
     "start_time": "2019-04-01T17:25:54.938494Z"
    },
    "collapsed": true
   },
   "outputs": [],
   "source": [
    "# мы можем на лету поменять индекс\n",
    "\n",
    "a.index=[1,2,3,4]"
   ]
  },
  {
   "cell_type": "code",
   "execution_count": null,
   "metadata": {
    "ExecuteTime": {
     "end_time": "2019-04-01T17:25:55.299354Z",
     "start_time": "2019-04-01T17:25:55.291856Z"
    }
   },
   "outputs": [],
   "source": [
    "a"
   ]
  },
  {
   "cell_type": "code",
   "execution_count": null,
   "metadata": {
    "ExecuteTime": {
     "end_time": "2019-04-01T17:25:55.631961Z",
     "start_time": "2019-04-01T17:25:55.623584Z"
    },
    "collapsed": true
   },
   "outputs": [],
   "source": [
    "# у Series есть поле name\n",
    "\n",
    "a.name='fofoofof'"
   ]
  },
  {
   "cell_type": "code",
   "execution_count": null,
   "metadata": {
    "ExecuteTime": {
     "end_time": "2019-04-01T17:25:56.800741Z",
     "start_time": "2019-04-01T17:25:56.786845Z"
    }
   },
   "outputs": [],
   "source": [
    "a"
   ]
  },
  {
   "cell_type": "code",
   "execution_count": null,
   "metadata": {
    "ExecuteTime": {
     "end_time": "2019-04-01T17:25:59.523430Z",
     "start_time": "2019-04-01T17:25:59.500808Z"
    }
   },
   "outputs": [],
   "source": [
    "a.mean()"
   ]
  },
  {
   "cell_type": "code",
   "execution_count": null,
   "metadata": {
    "ExecuteTime": {
     "end_time": "2019-04-01T17:26:03.059708Z",
     "start_time": "2019-04-01T17:26:03.038619Z"
    }
   },
   "outputs": [],
   "source": [
    "a.median()"
   ]
  },
  {
   "cell_type": "code",
   "execution_count": null,
   "metadata": {
    "ExecuteTime": {
     "end_time": "2019-04-01T17:26:36.990143Z",
     "start_time": "2019-04-01T17:26:36.975266Z"
    }
   },
   "outputs": [],
   "source": [
    "a.quantile(q=0.7)"
   ]
  },
  {
   "cell_type": "code",
   "execution_count": null,
   "metadata": {
    "ExecuteTime": {
     "end_time": "2019-04-01T17:27:00.626539Z",
     "start_time": "2019-04-01T17:27:00.621324Z"
    },
    "scrolled": true
   },
   "outputs": [],
   "source": [
    "np.sqrt(a)"
   ]
  },
  {
   "cell_type": "code",
   "execution_count": null,
   "metadata": {
    "ExecuteTime": {
     "end_time": "2019-04-01T17:27:04.891098Z",
     "start_time": "2019-04-01T17:27:04.868776Z"
    }
   },
   "outputs": [],
   "source": [
    "a ** 2"
   ]
  },
  {
   "cell_type": "code",
   "execution_count": null,
   "metadata": {
    "collapsed": true
   },
   "outputs": [],
   "source": []
  },
  {
   "cell_type": "markdown",
   "metadata": {},
   "source": [
    "___________"
   ]
  },
  {
   "cell_type": "raw",
   "metadata": {},
   "source": [
    "DataFrame в простом случае это таблица. \n",
    "у нее есть строки и столбцы.\n",
    "столбцами в DataFrame являются объекты Series.\n",
    "у DataFrame есть индекс по строкам, который по умолчанию задается в числовом диапазоне начниая с 0.\n",
    "Индексом по столбцам является название колонок."
   ]
  },
  {
   "cell_type": "code",
   "execution_count": 4,
   "metadata": {},
   "outputs": [],
   "source": [
    "d = {'колонка_1': [1, 2, 3, 4, 5], 'колонка_2': ['амир', 'миша', 'илья', 'зарина', 'игорь']}\n",
    "df = pd.DataFrame(data=d)"
   ]
  },
  {
   "cell_type": "code",
   "execution_count": null,
   "metadata": {},
   "outputs": [],
   "source": [
    "df"
   ]
  },
  {
   "cell_type": "code",
   "execution_count": null,
   "metadata": {
    "collapsed": true
   },
   "outputs": [],
   "source": [
    "df = pd.DataFrame({\n",
    "    'country': ['Kazakhstan', 'Russia', 'Belarus', 'Ukraine'],\n",
    "    'population': [17.04, 143.5, 9.5, 45.5],\n",
    "    'square': [2724902, 17125191, 207600, 603628]\n",
    "}, index=['KZ', 'RU', 'BY', 'UA'])"
   ]
  },
  {
   "cell_type": "code",
   "execution_count": null,
   "metadata": {
    "collapsed": true
   },
   "outputs": [],
   "source": []
  },
  {
   "cell_type": "markdown",
   "metadata": {},
   "source": [
    "![](https://pbpython.com/images/pandas-dataframe-shadow.png)"
   ]
  },
  {
   "cell_type": "code",
   "execution_count": 5,
   "metadata": {
    "ExecuteTime": {
     "end_time": "2019-04-01T17:18:02.992898Z",
     "start_time": "2019-04-01T17:18:02.957072Z"
    },
    "scrolled": true
   },
   "outputs": [],
   "source": [
    "# пандас умеет загружать данные из разных источников.\n",
    "# ниже пример загрузки из .tsv файла. \n",
    "\n",
    "titanik_csv = pd.read_csv('titanik.tsv', sep='|', index_col=0)"
   ]
  },
  {
   "cell_type": "markdown",
   "metadata": {},
   "source": [
    "##### 1. посмотреть как выглядят данные"
   ]
  },
  {
   "cell_type": "code",
   "execution_count": 6,
   "metadata": {
    "ExecuteTime": {
     "end_time": "2019-04-01T09:24:31.435294Z",
     "start_time": "2019-04-01T09:24:31.351455Z"
    }
   },
   "outputs": [
    {
     "data": {
      "text/html": [
       "<div>\n",
       "<style scoped>\n",
       "    .dataframe tbody tr th:only-of-type {\n",
       "        vertical-align: middle;\n",
       "    }\n",
       "\n",
       "    .dataframe tbody tr th {\n",
       "        vertical-align: top;\n",
       "    }\n",
       "\n",
       "    .dataframe thead th {\n",
       "        text-align: right;\n",
       "    }\n",
       "</style>\n",
       "<table border=\"1\" class=\"dataframe\">\n",
       "  <thead>\n",
       "    <tr style=\"text-align: right;\">\n",
       "      <th></th>\n",
       "      <th>pclass</th>\n",
       "      <th>survived</th>\n",
       "      <th>name</th>\n",
       "      <th>sex</th>\n",
       "      <th>age</th>\n",
       "      <th>sibsp</th>\n",
       "      <th>parch</th>\n",
       "      <th>ticket</th>\n",
       "      <th>fare</th>\n",
       "      <th>cabin</th>\n",
       "      <th>embarked</th>\n",
       "      <th>boat</th>\n",
       "      <th>body</th>\n",
       "      <th>home.dest</th>\n",
       "    </tr>\n",
       "  </thead>\n",
       "  <tbody>\n",
       "    <tr>\n",
       "      <th>0</th>\n",
       "      <td>1</td>\n",
       "      <td>1</td>\n",
       "      <td>Allen, Miss. Elisabeth Walton</td>\n",
       "      <td>female</td>\n",
       "      <td>29.0000</td>\n",
       "      <td>0</td>\n",
       "      <td>0</td>\n",
       "      <td>24160</td>\n",
       "      <td>211.3375</td>\n",
       "      <td>B5</td>\n",
       "      <td>S</td>\n",
       "      <td>2</td>\n",
       "      <td>NaN</td>\n",
       "      <td>St Louis, MO</td>\n",
       "    </tr>\n",
       "    <tr>\n",
       "      <th>1</th>\n",
       "      <td>1</td>\n",
       "      <td>1</td>\n",
       "      <td>Allison, Master. Hudson Trevor</td>\n",
       "      <td>male</td>\n",
       "      <td>0.9167</td>\n",
       "      <td>1</td>\n",
       "      <td>2</td>\n",
       "      <td>113781</td>\n",
       "      <td>151.5500</td>\n",
       "      <td>C22 C26</td>\n",
       "      <td>S</td>\n",
       "      <td>11</td>\n",
       "      <td>NaN</td>\n",
       "      <td>Montreal, PQ / Chesterville, ON</td>\n",
       "    </tr>\n",
       "    <tr>\n",
       "      <th>2</th>\n",
       "      <td>1</td>\n",
       "      <td>0</td>\n",
       "      <td>Allison, Miss. Helen Loraine</td>\n",
       "      <td>female</td>\n",
       "      <td>2.0000</td>\n",
       "      <td>1</td>\n",
       "      <td>2</td>\n",
       "      <td>113781</td>\n",
       "      <td>151.5500</td>\n",
       "      <td>C22 C26</td>\n",
       "      <td>S</td>\n",
       "      <td>NaN</td>\n",
       "      <td>NaN</td>\n",
       "      <td>Montreal, PQ / Chesterville, ON</td>\n",
       "    </tr>\n",
       "    <tr>\n",
       "      <th>3</th>\n",
       "      <td>1</td>\n",
       "      <td>0</td>\n",
       "      <td>Allison, Mr. Hudson Joshua Creighton</td>\n",
       "      <td>male</td>\n",
       "      <td>30.0000</td>\n",
       "      <td>1</td>\n",
       "      <td>2</td>\n",
       "      <td>113781</td>\n",
       "      <td>151.5500</td>\n",
       "      <td>C22 C26</td>\n",
       "      <td>S</td>\n",
       "      <td>NaN</td>\n",
       "      <td>135.0</td>\n",
       "      <td>Montreal, PQ / Chesterville, ON</td>\n",
       "    </tr>\n",
       "    <tr>\n",
       "      <th>4</th>\n",
       "      <td>1</td>\n",
       "      <td>0</td>\n",
       "      <td>Allison, Mrs. Hudson J C (Bessie Waldo Daniels)</td>\n",
       "      <td>female</td>\n",
       "      <td>25.0000</td>\n",
       "      <td>1</td>\n",
       "      <td>2</td>\n",
       "      <td>113781</td>\n",
       "      <td>151.5500</td>\n",
       "      <td>C22 C26</td>\n",
       "      <td>S</td>\n",
       "      <td>NaN</td>\n",
       "      <td>NaN</td>\n",
       "      <td>Montreal, PQ / Chesterville, ON</td>\n",
       "    </tr>\n",
       "  </tbody>\n",
       "</table>\n",
       "</div>"
      ],
      "text/plain": [
       "   pclass  survived                                             name     sex  \\\n",
       "0       1         1                    Allen, Miss. Elisabeth Walton  female   \n",
       "1       1         1                   Allison, Master. Hudson Trevor    male   \n",
       "2       1         0                     Allison, Miss. Helen Loraine  female   \n",
       "3       1         0             Allison, Mr. Hudson Joshua Creighton    male   \n",
       "4       1         0  Allison, Mrs. Hudson J C (Bessie Waldo Daniels)  female   \n",
       "\n",
       "       age  sibsp  parch  ticket      fare    cabin embarked boat   body  \\\n",
       "0  29.0000      0      0   24160  211.3375       B5        S    2    NaN   \n",
       "1   0.9167      1      2  113781  151.5500  C22 C26        S   11    NaN   \n",
       "2   2.0000      1      2  113781  151.5500  C22 C26        S  NaN    NaN   \n",
       "3  30.0000      1      2  113781  151.5500  C22 C26        S  NaN  135.0   \n",
       "4  25.0000      1      2  113781  151.5500  C22 C26        S  NaN    NaN   \n",
       "\n",
       "                         home.dest  \n",
       "0                     St Louis, MO  \n",
       "1  Montreal, PQ / Chesterville, ON  \n",
       "2  Montreal, PQ / Chesterville, ON  \n",
       "3  Montreal, PQ / Chesterville, ON  \n",
       "4  Montreal, PQ / Chesterville, ON  "
      ]
     },
     "execution_count": 6,
     "metadata": {},
     "output_type": "execute_result"
    }
   ],
   "source": [
    "# вывести первые n элементов (по умолчанию n=5)\n",
    "\n",
    "titanik_csv.head()"
   ]
  },
  {
   "cell_type": "raw",
   "metadata": {},
   "source": [
    "Обратите внимание в некоторых столбцах там где встречаются цифры еще иногда встречаются значния NaN. \n",
    "По умолчанию pandas так записывает пропущенные значения (то есть в tsv файле там ничего не было) - \n",
    "это нормальная ситуация для анализа данных (где то просто не получилось найти данные)"
   ]
  },
  {
   "cell_type": "code",
   "execution_count": 7,
   "metadata": {
    "ExecuteTime": {
     "end_time": "2019-04-01T09:24:32.417823Z",
     "start_time": "2019-04-01T09:24:32.390901Z"
    }
   },
   "outputs": [
    {
     "data": {
      "text/html": [
       "<div>\n",
       "<style scoped>\n",
       "    .dataframe tbody tr th:only-of-type {\n",
       "        vertical-align: middle;\n",
       "    }\n",
       "\n",
       "    .dataframe tbody tr th {\n",
       "        vertical-align: top;\n",
       "    }\n",
       "\n",
       "    .dataframe thead th {\n",
       "        text-align: right;\n",
       "    }\n",
       "</style>\n",
       "<table border=\"1\" class=\"dataframe\">\n",
       "  <thead>\n",
       "    <tr style=\"text-align: right;\">\n",
       "      <th></th>\n",
       "      <th>pclass</th>\n",
       "      <th>survived</th>\n",
       "      <th>name</th>\n",
       "      <th>sex</th>\n",
       "      <th>age</th>\n",
       "      <th>sibsp</th>\n",
       "      <th>parch</th>\n",
       "      <th>ticket</th>\n",
       "      <th>fare</th>\n",
       "      <th>cabin</th>\n",
       "      <th>embarked</th>\n",
       "      <th>boat</th>\n",
       "      <th>body</th>\n",
       "      <th>home.dest</th>\n",
       "    </tr>\n",
       "  </thead>\n",
       "  <tbody>\n",
       "    <tr>\n",
       "      <th>1299</th>\n",
       "      <td>3</td>\n",
       "      <td>0</td>\n",
       "      <td>Yasbeck, Mr. Antoni</td>\n",
       "      <td>male</td>\n",
       "      <td>27.0</td>\n",
       "      <td>1</td>\n",
       "      <td>0</td>\n",
       "      <td>2659</td>\n",
       "      <td>14.4542</td>\n",
       "      <td>NaN</td>\n",
       "      <td>C</td>\n",
       "      <td>C</td>\n",
       "      <td>NaN</td>\n",
       "      <td>NaN</td>\n",
       "    </tr>\n",
       "    <tr>\n",
       "      <th>1300</th>\n",
       "      <td>3</td>\n",
       "      <td>1</td>\n",
       "      <td>Yasbeck, Mrs. Antoni (Selini Alexander)</td>\n",
       "      <td>female</td>\n",
       "      <td>15.0</td>\n",
       "      <td>1</td>\n",
       "      <td>0</td>\n",
       "      <td>2659</td>\n",
       "      <td>14.4542</td>\n",
       "      <td>NaN</td>\n",
       "      <td>C</td>\n",
       "      <td>NaN</td>\n",
       "      <td>NaN</td>\n",
       "      <td>NaN</td>\n",
       "    </tr>\n",
       "    <tr>\n",
       "      <th>1301</th>\n",
       "      <td>3</td>\n",
       "      <td>0</td>\n",
       "      <td>Youseff, Mr. Gerious</td>\n",
       "      <td>male</td>\n",
       "      <td>45.5</td>\n",
       "      <td>0</td>\n",
       "      <td>0</td>\n",
       "      <td>2628</td>\n",
       "      <td>7.2250</td>\n",
       "      <td>NaN</td>\n",
       "      <td>C</td>\n",
       "      <td>NaN</td>\n",
       "      <td>312.0</td>\n",
       "      <td>NaN</td>\n",
       "    </tr>\n",
       "    <tr>\n",
       "      <th>1302</th>\n",
       "      <td>3</td>\n",
       "      <td>0</td>\n",
       "      <td>Yousif, Mr. Wazli</td>\n",
       "      <td>male</td>\n",
       "      <td>NaN</td>\n",
       "      <td>0</td>\n",
       "      <td>0</td>\n",
       "      <td>2647</td>\n",
       "      <td>7.2250</td>\n",
       "      <td>NaN</td>\n",
       "      <td>C</td>\n",
       "      <td>NaN</td>\n",
       "      <td>NaN</td>\n",
       "      <td>NaN</td>\n",
       "    </tr>\n",
       "    <tr>\n",
       "      <th>1303</th>\n",
       "      <td>3</td>\n",
       "      <td>0</td>\n",
       "      <td>Yousseff, Mr. Gerious</td>\n",
       "      <td>male</td>\n",
       "      <td>NaN</td>\n",
       "      <td>0</td>\n",
       "      <td>0</td>\n",
       "      <td>2627</td>\n",
       "      <td>14.4583</td>\n",
       "      <td>NaN</td>\n",
       "      <td>C</td>\n",
       "      <td>NaN</td>\n",
       "      <td>NaN</td>\n",
       "      <td>NaN</td>\n",
       "    </tr>\n",
       "    <tr>\n",
       "      <th>1304</th>\n",
       "      <td>3</td>\n",
       "      <td>0</td>\n",
       "      <td>Zabour, Miss. Hileni</td>\n",
       "      <td>female</td>\n",
       "      <td>14.5</td>\n",
       "      <td>1</td>\n",
       "      <td>0</td>\n",
       "      <td>2665</td>\n",
       "      <td>14.4542</td>\n",
       "      <td>NaN</td>\n",
       "      <td>C</td>\n",
       "      <td>NaN</td>\n",
       "      <td>328.0</td>\n",
       "      <td>NaN</td>\n",
       "    </tr>\n",
       "    <tr>\n",
       "      <th>1305</th>\n",
       "      <td>3</td>\n",
       "      <td>0</td>\n",
       "      <td>Zabour, Miss. Thamine</td>\n",
       "      <td>female</td>\n",
       "      <td>NaN</td>\n",
       "      <td>1</td>\n",
       "      <td>0</td>\n",
       "      <td>2665</td>\n",
       "      <td>14.4542</td>\n",
       "      <td>NaN</td>\n",
       "      <td>C</td>\n",
       "      <td>NaN</td>\n",
       "      <td>NaN</td>\n",
       "      <td>NaN</td>\n",
       "    </tr>\n",
       "    <tr>\n",
       "      <th>1306</th>\n",
       "      <td>3</td>\n",
       "      <td>0</td>\n",
       "      <td>Zakarian, Mr. Mapriededer</td>\n",
       "      <td>male</td>\n",
       "      <td>26.5</td>\n",
       "      <td>0</td>\n",
       "      <td>0</td>\n",
       "      <td>2656</td>\n",
       "      <td>7.2250</td>\n",
       "      <td>NaN</td>\n",
       "      <td>C</td>\n",
       "      <td>NaN</td>\n",
       "      <td>304.0</td>\n",
       "      <td>NaN</td>\n",
       "    </tr>\n",
       "    <tr>\n",
       "      <th>1307</th>\n",
       "      <td>3</td>\n",
       "      <td>0</td>\n",
       "      <td>Zakarian, Mr. Ortin</td>\n",
       "      <td>male</td>\n",
       "      <td>27.0</td>\n",
       "      <td>0</td>\n",
       "      <td>0</td>\n",
       "      <td>2670</td>\n",
       "      <td>7.2250</td>\n",
       "      <td>NaN</td>\n",
       "      <td>C</td>\n",
       "      <td>NaN</td>\n",
       "      <td>NaN</td>\n",
       "      <td>NaN</td>\n",
       "    </tr>\n",
       "    <tr>\n",
       "      <th>1308</th>\n",
       "      <td>3</td>\n",
       "      <td>0</td>\n",
       "      <td>Zimmerman, Mr. Leo</td>\n",
       "      <td>male</td>\n",
       "      <td>29.0</td>\n",
       "      <td>0</td>\n",
       "      <td>0</td>\n",
       "      <td>315082</td>\n",
       "      <td>7.8750</td>\n",
       "      <td>NaN</td>\n",
       "      <td>S</td>\n",
       "      <td>NaN</td>\n",
       "      <td>NaN</td>\n",
       "      <td>NaN</td>\n",
       "    </tr>\n",
       "  </tbody>\n",
       "</table>\n",
       "</div>"
      ],
      "text/plain": [
       "      pclass  survived                                     name     sex   age  \\\n",
       "1299       3         0                      Yasbeck, Mr. Antoni    male  27.0   \n",
       "1300       3         1  Yasbeck, Mrs. Antoni (Selini Alexander)  female  15.0   \n",
       "1301       3         0                     Youseff, Mr. Gerious    male  45.5   \n",
       "1302       3         0                        Yousif, Mr. Wazli    male   NaN   \n",
       "1303       3         0                    Yousseff, Mr. Gerious    male   NaN   \n",
       "1304       3         0                     Zabour, Miss. Hileni  female  14.5   \n",
       "1305       3         0                    Zabour, Miss. Thamine  female   NaN   \n",
       "1306       3         0                Zakarian, Mr. Mapriededer    male  26.5   \n",
       "1307       3         0                      Zakarian, Mr. Ortin    male  27.0   \n",
       "1308       3         0                       Zimmerman, Mr. Leo    male  29.0   \n",
       "\n",
       "      sibsp  parch  ticket     fare cabin embarked boat   body home.dest  \n",
       "1299      1      0    2659  14.4542   NaN        C    C    NaN       NaN  \n",
       "1300      1      0    2659  14.4542   NaN        C  NaN    NaN       NaN  \n",
       "1301      0      0    2628   7.2250   NaN        C  NaN  312.0       NaN  \n",
       "1302      0      0    2647   7.2250   NaN        C  NaN    NaN       NaN  \n",
       "1303      0      0    2627  14.4583   NaN        C  NaN    NaN       NaN  \n",
       "1304      1      0    2665  14.4542   NaN        C  NaN  328.0       NaN  \n",
       "1305      1      0    2665  14.4542   NaN        C  NaN    NaN       NaN  \n",
       "1306      0      0    2656   7.2250   NaN        C  NaN  304.0       NaN  \n",
       "1307      0      0    2670   7.2250   NaN        C  NaN    NaN       NaN  \n",
       "1308      0      0  315082   7.8750   NaN        S  NaN    NaN       NaN  "
      ]
     },
     "execution_count": 7,
     "metadata": {},
     "output_type": "execute_result"
    }
   ],
   "source": [
    "# вывести 10 последних элементов (по умолчанию 5)\n",
    "\n",
    "titanik_csv.tail(n=10)"
   ]
  },
  {
   "cell_type": "code",
   "execution_count": null,
   "metadata": {
    "ExecuteTime": {
     "end_time": "2019-04-01T09:24:32.859210Z",
     "start_time": "2019-04-01T09:24:32.820153Z"
    }
   },
   "outputs": [],
   "source": [
    "# вывести 10 случайных элементов (по умолчанию 5)\n",
    "\n",
    "titanik_csv.sample(n=10)"
   ]
  },
  {
   "cell_type": "code",
   "execution_count": null,
   "metadata": {},
   "outputs": [],
   "source": [
    "# тк pandas сделан на основе numpy, то мы можем так же стандартно посмотреть размерность таблички через\n",
    "# свойство shape\n",
    "\n",
    "titanik_csv.shape"
   ]
  },
  {
   "cell_type": "markdown",
   "metadata": {},
   "source": [
    ">  мы видим что у нас 1309 строк и 14 колонок"
   ]
  },
  {
   "cell_type": "code",
   "execution_count": null,
   "metadata": {},
   "outputs": [],
   "source": [
    "# мы в силах посмотреть всю табличку целиком.\n",
    "\n",
    "titanik_csv"
   ]
  },
  {
   "cell_type": "markdown",
   "metadata": {},
   "source": [
    "вы конечно можете посмотреть почти всю табличку целиком, вас ограничивают настройки отображения табличек в пандасе.\n",
    "\n",
    "> это поля \n",
    "\n",
    "> pd.options.display.max_columns - максимальное число колонок которое будет отрисовано\n",
    "\n",
    "> pd.options.display.max_rows - максимальное число строк которое будет отрисовано\n",
    "\n",
    "конечно же как программисты мы можем все это поменять."
   ]
  },
  {
   "cell_type": "code",
   "execution_count": null,
   "metadata": {
    "collapsed": true,
    "scrolled": true
   },
   "outputs": [],
   "source": [
    "pd.options.display.max_columns = 5"
   ]
  },
  {
   "cell_type": "code",
   "execution_count": null,
   "metadata": {
    "collapsed": true
   },
   "outputs": [],
   "source": [
    "pd.options.display.max_rows = 20"
   ]
  },
  {
   "cell_type": "code",
   "execution_count": null,
   "metadata": {},
   "outputs": [],
   "source": [
    "# стало хуже?\n",
    "\n",
    "titanik_csv"
   ]
  },
  {
   "cell_type": "code",
   "execution_count": null,
   "metadata": {
    "collapsed": true
   },
   "outputs": [],
   "source": [
    "# поставим чтоб было удобнее\n",
    "pd.options.display.max_columns = 20\n",
    "pd.options.display.max_rows = 200 # рекомендую ставить большое значение только если у вас мощный комп)"
   ]
  },
  {
   "cell_type": "markdown",
   "metadata": {},
   "source": [
    "##### 2. начнем смотреть столбцы ближе."
   ]
  },
  {
   "cell_type": "markdown",
   "metadata": {},
   "source": [
    "Для того чтобы понять какой столбец (признак) что означает почитайте об этом в разделе Data\n",
    "https://www.kaggle.com/c/titanic/data . \n",
    "\n",
    "Пока вы не запомните, может быть полезно выписать название всех столбцов и что они значат прямо в нотбук - сюда:\n",
    "\n",
    "* Survived - \n",
    "* Pclass - \n",
    "* Name - \n",
    "* Sex - \n",
    "* Age - \n",
    "* SibSp - \n",
    "* Parch - \n",
    "* Ticket - \n",
    "* Fare - \n",
    "* Cabin - \n",
    "* Embarked -"
   ]
  },
  {
   "cell_type": "markdown",
   "metadata": {},
   "source": [
    "несколько полезных методов которые помогут быстро посмотреть общие характеристики данных:\n",
    "\n",
    "1. .describe() - Выведет количество, среднее, стандартное отклонение, квантили, минимум и максимум всех **числовых признаков** (столбцов)\n",
    "2. .columns - это поле а не метод (в конце скобки не надо писать). Выведет название всех колонок.\n",
    "3. .count() - выведет количесто **не пропущенных** значений в каждом столбце (not nan значений)\n",
    "4. .nunique() - выведет количество уникальных значений в каждом столбце\n",
    "5. .dtypes - это поле а не метод (в конце скобки не надо писать). Выведет тип переменной хранящейся в каждом столбце\n"
   ]
  },
  {
   "cell_type": "code",
   "execution_count": null,
   "metadata": {},
   "outputs": [],
   "source": [
    "titanik_csv.describe()"
   ]
  },
  {
   "cell_type": "code",
   "execution_count": null,
   "metadata": {},
   "outputs": [],
   "source": [
    "titanik_csv.count()"
   ]
  },
  {
   "cell_type": "code",
   "execution_count": null,
   "metadata": {},
   "outputs": [],
   "source": [
    "titanik_csv.nunique()"
   ]
  },
  {
   "cell_type": "code",
   "execution_count": null,
   "metadata": {},
   "outputs": [],
   "source": [
    "# там где строки пандас по умолчанию пишет object\n",
    "# иногда полезно посмотреть что тут.\n",
    "\n",
    "titanik_csv.dtypes"
   ]
  },
  {
   "cell_type": "code",
   "execution_count": null,
   "metadata": {
    "collapsed": true
   },
   "outputs": [],
   "source": []
  },
  {
   "cell_type": "markdown",
   "metadata": {},
   "source": [
    "мы можем напрямую обращаться к столбцу, столбцам, строке и строкам.\n",
    "\n",
    "https://pandas.pydata.org/pandas-docs/stable/user_guide/indexing.html"
   ]
  },
  {
   "cell_type": "code",
   "execution_count": null,
   "metadata": {},
   "outputs": [],
   "source": [
    "# самый простой способ обратиться к столбцу - это написать его название через точку\n",
    "# давайте обратимся к полю sex\n",
    "# нам вернется pd.Series - прямо вся колонка\n",
    "\n",
    "titanik_csv.sex"
   ]
  },
  {
   "cell_type": "code",
   "execution_count": null,
   "metadata": {},
   "outputs": [],
   "source": [
    "# еще можно обратиться через квадратные скобки\n",
    "# эффект будет совершенно таким же\n",
    "\n",
    "titanik_csv[\"sex\"]"
   ]
  },
  {
   "cell_type": "code",
   "execution_count": null,
   "metadata": {},
   "outputs": [],
   "source": [
    "# через values мы можем получить np.array который хранится в вернувшемся объекте pd.Series\n",
    "\n",
    "titanik_csv.sex.values"
   ]
  },
  {
   "cell_type": "code",
   "execution_count": null,
   "metadata": {},
   "outputs": [],
   "source": [
    "# силами pandas мы можем посмотреть различные значения содержащиеся в объекте pd.Series\n",
    "# https://pandas.pydata.org/pandas-docs/stable/reference/api/pandas.Series.value_counts.html\n",
    "# обратите внимание на доп параметры этой функции\n",
    "\n",
    "titanik_csv.sex.value_counts()"
   ]
  },
  {
   "cell_type": "markdown",
   "metadata": {},
   "source": [
    "> Вопрос Кого больше мужчин или женщин?\n",
    "\n",
    "> ответ:\n",
    "\n",
    "> Вопрос - объект какого типа возвращается после вызова  функции value_counts() ?\n",
    "\n",
    "> ответ:\n"
   ]
  },
  {
   "cell_type": "markdown",
   "metadata": {},
   "source": [
    "в пандасе мы можем получить срез сразу по нескольким колонкам, тогда вернется новый DataFrame а не Series"
   ]
  },
  {
   "cell_type": "code",
   "execution_count": null,
   "metadata": {
    "ExecuteTime": {
     "end_time": "2019-04-01T09:28:16.916452Z",
     "start_time": "2019-04-01T09:28:16.893384Z"
    }
   },
   "outputs": [],
   "source": [
    "titanik_csv[ ['sex', 'age'] ]"
   ]
  },
  {
   "cell_type": "markdown",
   "metadata": {
    "ExecuteTime": {
     "end_time": "2019-04-01T09:28:47.774680Z",
     "start_time": "2019-04-01T09:28:47.760720Z"
    }
   },
   "source": [
    "Самый каноничный способ обращения к полям - через loc или iloc\n",
    "\n",
    "loc - позволяет обратиться по названию индексов, \n",
    "\n",
    "iloc - по нумерованному значению (то есть обращаемся через цифры, начиная с нуля)"
   ]
  },
  {
   "cell_type": "code",
   "execution_count": null,
   "metadata": {
    "ExecuteTime": {
     "end_time": "2019-04-01T09:30:09.960525Z",
     "start_time": "2019-04-01T09:30:09.938592Z"
    },
    "scrolled": true
   },
   "outputs": [],
   "source": [
    "titanik_csv.loc[:, 'sex']"
   ]
  },
  {
   "cell_type": "markdown",
   "metadata": {},
   "source": [
    "чтобы в дальнейшем экономить место - будем смотреть только первые 5 записей"
   ]
  },
  {
   "cell_type": "code",
   "execution_count": null,
   "metadata": {
    "ExecuteTime": {
     "end_time": "2019-04-01T09:30:43.817056Z",
     "start_time": "2019-04-01T09:30:43.801964Z"
    }
   },
   "outputs": [],
   "source": [
    "titanik_csv.loc[:, 'sex'].head()"
   ]
  },
  {
   "cell_type": "code",
   "execution_count": null,
   "metadata": {
    "ExecuteTime": {
     "end_time": "2019-04-01T09:30:57.751061Z",
     "start_time": "2019-04-01T09:30:57.728853Z"
    }
   },
   "outputs": [],
   "source": [
    "titanik_csv.loc[:, ['sex', 'age']].head()"
   ]
  },
  {
   "cell_type": "code",
   "execution_count": null,
   "metadata": {
    "ExecuteTime": {
     "end_time": "2019-04-01T09:31:26.113471Z",
     "start_time": "2019-04-01T09:31:26.095912Z"
    }
   },
   "outputs": [],
   "source": [
    "titanik_csv.loc[[12,13,14,17,17], ['sex', 'age']].head()"
   ]
  },
  {
   "cell_type": "code",
   "execution_count": null,
   "metadata": {
    "ExecuteTime": {
     "end_time": "2019-04-01T09:31:48.795295Z",
     "start_time": "2019-04-01T09:31:48.778582Z"
    }
   },
   "outputs": [],
   "source": [
    "titanik_csv.iloc[[12,13,14,17,17], [3, 4]].head()"
   ]
  },
  {
   "cell_type": "markdown",
   "metadata": {},
   "source": [
    "> копию или реальный объект возвращает лок?"
   ]
  },
  {
   "cell_type": "markdown",
   "metadata": {},
   "source": [
    "https://stackoverflow.com/questions/47972633/in-pandas-does-iloc-method-give-a-copy-or-view"
   ]
  },
  {
   "cell_type": "markdown",
   "metadata": {},
   "source": [
    "##### 3. мы можем работать с полями и изменять их как хотим.¶\n"
   ]
  },
  {
   "cell_type": "code",
   "execution_count": null,
   "metadata": {
    "ExecuteTime": {
     "end_time": "2019-04-01T09:41:15.578623Z",
     "start_time": "2019-04-01T09:41:15.568492Z"
    },
    "scrolled": true
   },
   "outputs": [],
   "source": [
    "titanik_csv.loc[0, 'name']"
   ]
  },
  {
   "cell_type": "markdown",
   "metadata": {},
   "source": [
    "например, давайте выделим только первую часть имени.\n",
    "как мы это делаем с одной строкой?"
   ]
  },
  {
   "cell_type": "code",
   "execution_count": null,
   "metadata": {
    "ExecuteTime": {
     "end_time": "2019-04-01T09:41:53.030676Z",
     "start_time": "2019-04-01T09:41:53.011633Z"
    }
   },
   "outputs": [],
   "source": [
    "titanik_csv.loc[0, 'name'].split(',')[0]"
   ]
  },
  {
   "cell_type": "markdown",
   "metadata": {},
   "source": [
    "чтобы проделать этот финт со всеми строками - не нужно итерироваться в цикле.\n",
    "достаточно применить некоторую функцию."
   ]
  },
  {
   "cell_type": "code",
   "execution_count": null,
   "metadata": {
    "ExecuteTime": {
     "end_time": "2019-04-01T09:43:22.992736Z",
     "start_time": "2019-04-01T09:43:22.975281Z"
    },
    "scrolled": true
   },
   "outputs": [],
   "source": [
    "titanik_csv['name'].head().apply(lambda x: x.split(',')[0])"
   ]
  },
  {
   "cell_type": "raw",
   "metadata": {},
   "source": [
    "на основе этого мы можем создать новую колонку."
   ]
  },
  {
   "cell_type": "code",
   "execution_count": null,
   "metadata": {
    "ExecuteTime": {
     "end_time": "2019-04-01T09:43:51.315926Z",
     "start_time": "2019-04-01T09:43:51.302071Z"
    },
    "collapsed": true
   },
   "outputs": [],
   "source": [
    "titanik_csv['only_name'] = titanik_csv['name'].apply(lambda x: x.split(',')[0])"
   ]
  },
  {
   "cell_type": "code",
   "execution_count": null,
   "metadata": {
    "ExecuteTime": {
     "end_time": "2019-04-01T09:43:55.899812Z",
     "start_time": "2019-04-01T09:43:55.867041Z"
    }
   },
   "outputs": [],
   "source": [
    "titanik_csv.head()"
   ]
  },
  {
   "cell_type": "markdown",
   "metadata": {},
   "source": [
    "##### 4. мы можем удалять столбцы или строки"
   ]
  },
  {
   "cell_type": "code",
   "execution_count": null,
   "metadata": {},
   "outputs": [],
   "source": [
    "titanik_csv.drop(['only_name'], axis=1)"
   ]
  },
  {
   "cell_type": "code",
   "execution_count": null,
   "metadata": {},
   "outputs": [],
   "source": [
    "titanik_csv[list(set(titanik_csv.columns)-{'only_name'})]"
   ]
  },
  {
   "cell_type": "code",
   "execution_count": null,
   "metadata": {},
   "outputs": [],
   "source": [
    "titanik_csv[['pclass', 'survived', 'name', 'sex', 'age', 'sibsp', 'parch', 'ticket',\n",
    "       'fare', 'cabin', 'embarked', 'boat', 'body', 'home.dest']]"
   ]
  },
  {
   "cell_type": "markdown",
   "metadata": {},
   "source": [
    "# 4. Группировка"
   ]
  },
  {
   "cell_type": "markdown",
   "metadata": {},
   "source": [
    "![](https://image.slidesharecdn.com/slides-151008060416-lva1-app6892/95/pandas-powerful-data-analysis-tools-for-python-19-638.jpg?cb=1444284343)"
   ]
  },
  {
   "cell_type": "code",
   "execution_count": 8,
   "metadata": {
    "ExecuteTime": {
     "end_time": "2019-04-01T17:25:33.398574Z",
     "start_time": "2019-04-01T17:25:33.388293Z"
    }
   },
   "outputs": [
    {
     "data": {
      "text/plain": [
       "<pandas.core.groupby.generic.DataFrameGroupBy object at 0x7f3ff76449e8>"
      ]
     },
     "execution_count": 8,
     "metadata": {},
     "output_type": "execute_result"
    }
   ],
   "source": [
    "titanik_csv.groupby('sex')"
   ]
  },
  {
   "cell_type": "code",
   "execution_count": 9,
   "metadata": {
    "ExecuteTime": {
     "end_time": "2019-04-01T17:25:42.377993Z",
     "start_time": "2019-04-01T17:25:42.360901Z"
    }
   },
   "outputs": [
    {
     "data": {
      "text/plain": [
       "sex\n",
       "female    28.687071\n",
       "male      30.585233\n",
       "Name: age, dtype: float64"
      ]
     },
     "execution_count": 9,
     "metadata": {},
     "output_type": "execute_result"
    }
   ],
   "source": [
    "titanik_csv.groupby('sex').age.mean()"
   ]
  },
  {
   "cell_type": "code",
   "execution_count": 10,
   "metadata": {},
   "outputs": [
    {
     "data": {
      "text/plain": [
       "sex     pclass\n",
       "female  1         37.037594\n",
       "        2         27.499191\n",
       "        3         22.185307\n",
       "male    1         41.029250\n",
       "        2         30.815401\n",
       "        3         25.962273\n",
       "Name: age, dtype: float64"
      ]
     },
     "execution_count": 10,
     "metadata": {},
     "output_type": "execute_result"
    }
   ],
   "source": [
    "titanik_csv.groupby(['sex', 'pclass']).age.mean()"
   ]
  },
  {
   "cell_type": "code",
   "execution_count": 11,
   "metadata": {},
   "outputs": [
    {
     "data": {
      "text/plain": [
       "sex     pclass\n",
       "female  1         37.037594\n",
       "        2         27.499191\n",
       "        3         22.185307\n",
       "male    1         41.029250\n",
       "        2         30.815401\n",
       "        3         25.962273\n",
       "Name: age, dtype: float64"
      ]
     },
     "execution_count": 11,
     "metadata": {},
     "output_type": "execute_result"
    }
   ],
   "source": [
    "titanik_csv.groupby(['sex', 'pclass']).age.apply( lambda x: np.mean(x) )"
   ]
  },
  {
   "cell_type": "code",
   "execution_count": 12,
   "metadata": {},
   "outputs": [
    {
     "data": {
      "text/html": [
       "<div>\n",
       "<style scoped>\n",
       "    .dataframe tbody tr th:only-of-type {\n",
       "        vertical-align: middle;\n",
       "    }\n",
       "\n",
       "    .dataframe tbody tr th {\n",
       "        vertical-align: top;\n",
       "    }\n",
       "\n",
       "    .dataframe thead th {\n",
       "        text-align: right;\n",
       "    }\n",
       "</style>\n",
       "<table border=\"1\" class=\"dataframe\">\n",
       "  <thead>\n",
       "    <tr style=\"text-align: right;\">\n",
       "      <th></th>\n",
       "      <th>sex</th>\n",
       "      <th>pclass</th>\n",
       "      <th>age</th>\n",
       "    </tr>\n",
       "  </thead>\n",
       "  <tbody>\n",
       "    <tr>\n",
       "      <th>0</th>\n",
       "      <td>female</td>\n",
       "      <td>1</td>\n",
       "      <td>37.037594</td>\n",
       "    </tr>\n",
       "    <tr>\n",
       "      <th>1</th>\n",
       "      <td>female</td>\n",
       "      <td>2</td>\n",
       "      <td>27.499191</td>\n",
       "    </tr>\n",
       "    <tr>\n",
       "      <th>2</th>\n",
       "      <td>female</td>\n",
       "      <td>3</td>\n",
       "      <td>22.185307</td>\n",
       "    </tr>\n",
       "    <tr>\n",
       "      <th>3</th>\n",
       "      <td>male</td>\n",
       "      <td>1</td>\n",
       "      <td>41.029250</td>\n",
       "    </tr>\n",
       "    <tr>\n",
       "      <th>4</th>\n",
       "      <td>male</td>\n",
       "      <td>2</td>\n",
       "      <td>30.815401</td>\n",
       "    </tr>\n",
       "    <tr>\n",
       "      <th>5</th>\n",
       "      <td>male</td>\n",
       "      <td>3</td>\n",
       "      <td>25.962273</td>\n",
       "    </tr>\n",
       "  </tbody>\n",
       "</table>\n",
       "</div>"
      ],
      "text/plain": [
       "      sex  pclass        age\n",
       "0  female       1  37.037594\n",
       "1  female       2  27.499191\n",
       "2  female       3  22.185307\n",
       "3    male       1  41.029250\n",
       "4    male       2  30.815401\n",
       "5    male       3  25.962273"
      ]
     },
     "execution_count": 12,
     "metadata": {},
     "output_type": "execute_result"
    }
   ],
   "source": [
    "titanik_csv.groupby(['sex', 'pclass']).age.mean().reset_index()"
   ]
  },
  {
   "cell_type": "code",
   "execution_count": 13,
   "metadata": {},
   "outputs": [
    {
     "data": {
      "text/html": [
       "<div>\n",
       "<style scoped>\n",
       "    .dataframe tbody tr th:only-of-type {\n",
       "        vertical-align: middle;\n",
       "    }\n",
       "\n",
       "    .dataframe tbody tr th {\n",
       "        vertical-align: top;\n",
       "    }\n",
       "\n",
       "    .dataframe thead th {\n",
       "        text-align: right;\n",
       "    }\n",
       "</style>\n",
       "<table border=\"1\" class=\"dataframe\">\n",
       "  <thead>\n",
       "    <tr style=\"text-align: right;\">\n",
       "      <th></th>\n",
       "      <th>pclass</th>\n",
       "      <th>fare</th>\n",
       "    </tr>\n",
       "  </thead>\n",
       "  <tbody>\n",
       "    <tr>\n",
       "      <th>0</th>\n",
       "      <td>1</td>\n",
       "      <td>87.508992</td>\n",
       "    </tr>\n",
       "    <tr>\n",
       "      <th>1</th>\n",
       "      <td>2</td>\n",
       "      <td>21.179196</td>\n",
       "    </tr>\n",
       "    <tr>\n",
       "      <th>2</th>\n",
       "      <td>3</td>\n",
       "      <td>13.302889</td>\n",
       "    </tr>\n",
       "  </tbody>\n",
       "</table>\n",
       "</div>"
      ],
      "text/plain": [
       "   pclass       fare\n",
       "0       1  87.508992\n",
       "1       2  21.179196\n",
       "2       3  13.302889"
      ]
     },
     "execution_count": 13,
     "metadata": {},
     "output_type": "execute_result"
    }
   ],
   "source": [
    "titanik_csv.groupby(['pclass']).fare.mean().reset_index()"
   ]
  },
  {
   "cell_type": "markdown",
   "metadata": {},
   "source": [
    "##### Слияние двух датафреймов"
   ]
  },
  {
   "cell_type": "code",
   "execution_count": null,
   "metadata": {
    "collapsed": true
   },
   "outputs": [],
   "source": [
    "a = titanik_csv.groupby(['sex', 'pclass']).age.mean().reset_index()\n",
    "b = titanik_csv.groupby(['pclass']).fare.mean().reset_index()"
   ]
  },
  {
   "cell_type": "code",
   "execution_count": null,
   "metadata": {},
   "outputs": [],
   "source": [
    "pd.merge(a, b, on='pclass')"
   ]
  },
  {
   "cell_type": "code",
   "execution_count": null,
   "metadata": {
    "collapsed": true
   },
   "outputs": [],
   "source": [
    "c = pd.merge(a, b, on='pclass')"
   ]
  },
  {
   "cell_type": "code",
   "execution_count": null,
   "metadata": {
    "collapsed": true
   },
   "outputs": [],
   "source": [
    "## как удалить из c колонку age ? "
   ]
  },
  {
   "cell_type": "code",
   "execution_count": null,
   "metadata": {
    "collapsed": true
   },
   "outputs": [],
   "source": [
    "## как удалить из c строчки с индексами 2 и 4 ? "
   ]
  },
  {
   "cell_type": "raw",
   "metadata": {},
   "source": []
  },
  {
   "cell_type": "markdown",
   "metadata": {},
   "source": [
    "##### Таблица сопряженности"
   ]
  },
  {
   "cell_type": "markdown",
   "metadata": {},
   "source": [
    "Давайте построим **таблицу сопряженности** (Она же **cross tabulation** или **contigency table** она же **pivot table**). \n",
    "\n",
    "https://en.wikipedia.org/wiki/Contingency_table\n",
    "\n",
    "Pandas позволяет сложные таблицы сопряженности со многими уровнями вложенности с использованием функции pandas .crosstab()\n",
    "\n",
    "Нам потребуются 2 параметра этой функции:\n",
    "\n",
    "1. index - список колонок которые будут расположены по вертикали (список может состоять из 1 элемента)\n",
    "2. columns - список колонок которые будут расположены по горизонтали (список может состоять из 1 элемента)\n",
    "Опционально (использовать отдельно друго от друга)\n",
    "3. margins - значение True будет показывать сумму по столбцам и строкам\n",
    "4. normalize - новый параметр позволят отнормировать значения на сумму по строке ('rows'), столбцу ('columns'), или на ту и другую ('all')\n",
    "\n",
    "Обратите внимание что crosstab() это функция библиотеки Pandas, а не метод \n",
    "объекта pandas.DataFrame. \n",
    "\n",
    "Может быть не очень понятно как ее использовать, если не сможете разобраться, ответ можно найти тут  https://www.kaggle.com/dejavu23/titanic-eda-to-ml-beginner .\n",
    "**Но сначала попробуйте погуглить.**\n",
    "\n",
    "Документация на .crosstab()\n",
    "http://pandas.pydata.org/pandas-docs/stable/reference/api/pandas.crosstab.html"
   ]
  },
  {
   "cell_type": "raw",
   "metadata": {},
   "source": []
  },
  {
   "cell_type": "code",
   "execution_count": null,
   "metadata": {},
   "outputs": [],
   "source": [
    "# воспользуйтесь функцией crosstab() и построите таблицу сопряженности\n",
    "# для колнок Sex (по вертикали) и Survived (по горизонтали)\n",
    "\n",
    "pd.crosstab(...)"
   ]
  },
  {
   "cell_type": "raw",
   "metadata": {},
   "source": [
    "должно получиться что-то типа такого\n",
    "array([[127, 339],\n",
    "       [682, 161]])"
   ]
  },
  {
   "cell_type": "code",
   "execution_count": null,
   "metadata": {},
   "outputs": [],
   "source": [
    "# воспользуйтесь функцией crosstab() и построите таблицу сопряженности \n",
    "# для колнок Sex и Survived (по вертикали) и Pclass (по горизонтали)\n",
    "# установите параметр margins=True\n",
    "\n",
    "pd.crosstab( ... )"
   ]
  },
  {
   "cell_type": "raw",
   "metadata": {},
   "source": [
    "должно получиться что-то типа такого\n",
    "\n",
    "array([[   5,   12,  110,  127],\n",
    "       [ 118,  146,  418,  682],\n",
    "       [ 139,   94,  106,  339],\n",
    "       [  61,   25,   75,  161],\n",
    "       [ 323,  277,  709, 1309]])"
   ]
  },
  {
   "cell_type": "markdown",
   "metadata": {},
   "source": [
    "#### Вопрос: \n",
    "Что вы можете сказать выживаемости пассижиров разного класса и пола?"
   ]
  },
  {
   "cell_type": "raw",
   "metadata": {},
   "source": []
  },
  {
   "cell_type": "markdown",
   "metadata": {},
   "source": [
    ".crosstab() позволяет не только считать количество внутри категорий,\n",
    "у него есть специальный параметр:\n",
    "1. values - можно передать сюда столбец для которого будет посчитана aggfunc внутри сложной категории задаваемой вашей таблице"
   ]
  },
  {
   "cell_type": "code",
   "execution_count": null,
   "metadata": {},
   "outputs": [],
   "source": [
    "# Построим предыдующую таблицу\n",
    "# но теперь воспользуемся параметрами values (titanic['age']) и aggfunc ('mean')\n",
    "\n",
    "pd.crosstab(index=[titanic.survived, titanic['sex']],\n",
    "            columns=[titanic.pclass],\n",
    "            values=titanic['age'],\n",
    "            aggfunc='mean',\n",
    "            margins=True)"
   ]
  },
  {
   "cell_type": "code",
   "execution_count": null,
   "metadata": {
    "collapsed": true
   },
   "outputs": [],
   "source": []
  },
  {
   "cell_type": "code",
   "execution_count": null,
   "metadata": {
    "scrolled": true
   },
   "outputs": [],
   "source": [
    "pd.crosstab(titanic.survived,\n",
    "            titanic.pclass)"
   ]
  },
  {
   "cell_type": "code",
   "execution_count": null,
   "metadata": {},
   "outputs": [],
   "source": [
    "pd.pivot_table(titanic, values='sex', index='survived', columns='pclass', aggfunc='count')"
   ]
  },
  {
   "cell_type": "raw",
   "metadata": {},
   "source": []
  },
  {
   "cell_type": "markdown",
   "metadata": {},
   "source": [
    "# Визуализация\n",
    "\n",
    "кто любит поинтереснее - Seaborn for the Titanic \n",
    "https://gist.github.com/mwaskom/8224591"
   ]
  },
  {
   "cell_type": "code",
   "execution_count": 14,
   "metadata": {},
   "outputs": [],
   "source": [
    "import matplotlib.pyplot as plt\n",
    "\n",
    "%matplotlib inline"
   ]
  },
  {
   "cell_type": "code",
   "execution_count": 15,
   "metadata": {},
   "outputs": [
    {
     "data": {
      "text/plain": [
       "[<matplotlib.lines.Line2D at 0x7f3ff62cdeb8>]"
      ]
     },
     "execution_count": 15,
     "metadata": {},
     "output_type": "execute_result"
    },
    {
     "data": {
      "image/png": "[encoded data removed]",
      "text/plain": [
       "<Figure size 432x288 with 1 Axes>"
      ]
     },
     "metadata": {
      "needs_background": "light"
     },
     "output_type": "display_data"
    }
   ],
   "source": [
    "x = np.linspace(-1, 1, 100)\n",
    "\n",
    "plt.plot(x, x**2, '-k')"
   ]
  },
  {
   "cell_type": "code",
   "execution_count": null,
   "metadata": {},
   "outputs": [],
   "source": [
    "plt.scatter(x, x**2, c=['r' if int(i * 10) % 2 == 1 else 'b' for i in x])"
   ]
  },
  {
   "cell_type": "code",
   "execution_count": null,
   "metadata": {},
   "outputs": [],
   "source": [
    "plt.scatter(x, np.random.randn(100), c=['r' if int(i * 10) % 2 == 1 else 'b' for i in x])"
   ]
  },
  {
   "cell_type": "code",
   "execution_count": null,
   "metadata": {},
   "outputs": [],
   "source": [
    "idx = [1,2,3,4]\n",
    "vals = [100, 150, 200, 345]\n",
    "\n",
    "plt.bar(idx, vals, tick_label=['a', 'b', 'g', 'dsd']);"
   ]
  },
  {
   "cell_type": "code",
   "execution_count": null,
   "metadata": {},
   "outputs": [],
   "source": [
    "plt.hist(np.random.randn(10000), bins=100);"
   ]
  },
  {
   "cell_type": "raw",
   "metadata": {},
   "source": []
  },
  {
   "cell_type": "code",
   "execution_count": null,
   "metadata": {},
   "outputs": [],
   "source": [
    "plt.figure(figsize=(12, 4))\n",
    "\n",
    "plt.hist(np.random.randn(10000), bins=100, label='norm_disr')\n",
    "\n",
    "plt.legend(loc=[1.1, 0.8]) # try loc='best'\n",
    "\n",
    "plt.title('my_title is beautiful');\n",
    "\n",
    "# plt.xlim([-3, 3])\n",
    "# plt.ylim([-100, 400])\n",
    "\n",
    "plt.xlabel('my bins');\n",
    "plt.ylabel('my counters');\n",
    "\n",
    "# plt.xticks(np.arange(-3, 4, 1), list('abcdefg'))\n",
    "# plt.yticks()\n",
    "\n",
    "# plt.savefig('./path.png', dpi=300)"
   ]
  },
  {
   "cell_type": "code",
   "execution_count": null,
   "metadata": {
    "collapsed": true
   },
   "outputs": [],
   "source": []
  },
  {
   "cell_type": "code",
   "execution_count": null,
   "metadata": {},
   "outputs": [],
   "source": [
    "## TODO нарисуем несколько графиков на одном - квадратичную и кубическую зависимость\n",
    "## Подпишем графики и выведем легенду чтобы было понятно какой график - какой.\n",
    "\n",
    "x = np.linspace(-1, 1, 100)\n",
    "\n",
    "plt. ..."
   ]
  },
  {
   "cell_type": "code",
   "execution_count": null,
   "metadata": {
    "collapsed": true
   },
   "outputs": [],
   "source": []
  },
  {
   "cell_type": "markdown",
   "metadata": {},
   "source": [
    "##### Несколько графиков рядом"
   ]
  },
  {
   "cell_type": "code",
   "execution_count": null,
   "metadata": {},
   "outputs": [],
   "source": [
    "x = np.arange(0, 3 * np.pi, 0.1)\n",
    "y_sin = np.sin(x)\n",
    "y_cos = np.cos(x)\n",
    "\n",
    "# subplot - сетка с высотой 2 и шириной 1, по дефолту сделать первый subplot активным\n",
    "plt.subplot(2, 1, 1)\n",
    "\n",
    "# построим что нибудь на первом\n",
    "plt.plot(x, y_sin)\n",
    "plt.title('Sine')\n",
    "\n",
    "# Поменяем сабплот - теперь активен второй\n",
    "plt.subplot(2, 1, 2)\n",
    "plt.plot(x, y_cos)\n",
    "plt.title('Cosine')\n",
    "\n",
    "# отрисовать\n",
    "plt.show()"
   ]
  },
  {
   "cell_type": "markdown",
   "metadata": {},
   "source": [
    "# Посмотрим на титанике"
   ]
  },
  {
   "cell_type": "code",
   "execution_count": 23,
   "metadata": {},
   "outputs": [],
   "source": [
    "import pandas as pd"
   ]
  },
  {
   "cell_type": "code",
   "execution_count": 24,
   "metadata": {},
   "outputs": [],
   "source": [
    "titanic =  pd.read_csv('titanik.tsv', sep='|', index_col=0)"
   ]
  },
  {
   "cell_type": "code",
   "execution_count": 25,
   "metadata": {},
   "outputs": [
    {
     "data": {
      "text/plain": [
       "3    709\n",
       "1    323\n",
       "2    277\n",
       "Name: pclass, dtype: int64"
      ]
     },
     "execution_count": 25,
     "metadata": {},
     "output_type": "execute_result"
    }
   ],
   "source": [
    "titanic[\"pclass\"].value_counts()"
   ]
  },
  {
   "cell_type": "markdown",
   "metadata": {},
   "source": [
    "Отрисуем pclass"
   ]
  },
  {
   "cell_type": "code",
   "execution_count": 26,
   "metadata": {},
   "outputs": [
    {
     "data": {
      "image/png": "[encoded data removed]",
      "text/plain": [
       "<Figure size 432x288 with 1 Axes>"
      ]
     },
     "metadata": {
      "needs_background": "light"
     },
     "output_type": "display_data"
    }
   ],
   "source": [
    "plt.bar( titanic[\"pclass\"].value_counts().index, \n",
    "         titanic[\"pclass\"].value_counts().values,\n",
    "         tick_label=titanic[\"pclass\"].value_counts().index);"
   ]
  },
  {
   "cell_type": "markdown",
   "metadata": {},
   "source": [
    "посмотрим на число погибших людей в каждом из pclass"
   ]
  },
  {
   "cell_type": "code",
   "execution_count": 20,
   "metadata": {},
   "outputs": [
    {
     "data": {
      "text/plain": [
       "3    528\n",
       "2    158\n",
       "1    123\n",
       "Name: pclass, dtype: int64"
      ]
     },
     "execution_count": 20,
     "metadata": {},
     "output_type": "execute_result"
    }
   ],
   "source": [
    "titanic.loc[titanic.survived==0, \"pclass\"].value_counts()"
   ]
  },
  {
   "cell_type": "code",
   "execution_count": 21,
   "metadata": {
    "scrolled": true
   },
   "outputs": [
    {
     "data": {
      "text/html": [
       "<div>\n",
       "<style scoped>\n",
       "    .dataframe tbody tr th:only-of-type {\n",
       "        vertical-align: middle;\n",
       "    }\n",
       "\n",
       "    .dataframe tbody tr th {\n",
       "        vertical-align: top;\n",
       "    }\n",
       "\n",
       "    .dataframe thead th {\n",
       "        text-align: right;\n",
       "    }\n",
       "</style>\n",
       "<table border=\"1\" class=\"dataframe\">\n",
       "  <thead>\n",
       "    <tr style=\"text-align: right;\">\n",
       "      <th>pclass</th>\n",
       "      <th>1</th>\n",
       "      <th>2</th>\n",
       "      <th>3</th>\n",
       "    </tr>\n",
       "    <tr>\n",
       "      <th>survived</th>\n",
       "      <th></th>\n",
       "      <th></th>\n",
       "      <th></th>\n",
       "    </tr>\n",
       "  </thead>\n",
       "  <tbody>\n",
       "    <tr>\n",
       "      <th>0</th>\n",
       "      <td>123</td>\n",
       "      <td>158</td>\n",
       "      <td>528</td>\n",
       "    </tr>\n",
       "    <tr>\n",
       "      <th>1</th>\n",
       "      <td>200</td>\n",
       "      <td>119</td>\n",
       "      <td>181</td>\n",
       "    </tr>\n",
       "  </tbody>\n",
       "</table>\n",
       "</div>"
      ],
      "text/plain": [
       "pclass      1    2    3\n",
       "survived               \n",
       "0         123  158  528\n",
       "1         200  119  181"
      ]
     },
     "execution_count": 21,
     "metadata": {},
     "output_type": "execute_result"
    }
   ],
   "source": [
    "pd.crosstab(titanic.survived, titanic.pclass)"
   ]
  },
  {
   "cell_type": "code",
   "execution_count": 22,
   "metadata": {},
   "outputs": [
    {
     "data": {
      "image/png": "[encoded data removed]",
      "text/plain": [
       "<Figure size 432x288 with 1 Axes>"
      ]
     },
     "metadata": {
      "needs_background": "light"
     },
     "output_type": "display_data"
    }
   ],
   "source": [
    "died = pd.crosstab(titanic.survived, titanic.pclass).loc[0]\n",
    "plt.bar(died.index, died.values);"
   ]
  },
  {
   "cell_type": "markdown",
   "metadata": {},
   "source": [
    "Попробуем в зависимости от пола"
   ]
  },
  {
   "cell_type": "code",
   "execution_count": null,
   "metadata": {},
   "outputs": [],
   "source": [
    "male = titanic.sex=='male'\n",
    "\n",
    "survived = pd.crosstab(titanic[male].survived, \n",
    "                       titanic[male].pclass\n",
    "                      ).loc[1]\n",
    "plt.bar(survived.index, survived.values, alpha=0.4, label='male');\n",
    "\n",
    "\n",
    "survived = pd.crosstab(titanic[~male].survived, \n",
    "                       titanic[~male].pclass\n",
    "                      ).loc[1]\n",
    "plt.bar(survived.index, survived.values, alpha=0.4, label='female');"
   ]
  },
  {
   "cell_type": "code",
   "execution_count": null,
   "metadata": {},
   "outputs": [],
   "source": [
    "titanic.sex.value_counts()"
   ]
  },
  {
   "cell_type": "code",
   "execution_count": null,
   "metadata": {},
   "outputs": [],
   "source": [
    "titanic[titanic.survived==1].sex.value_counts()"
   ]
  },
  {
   "cell_type": "code",
   "execution_count": null,
   "metadata": {},
   "outputs": [],
   "source": [
    "male_age = titanic[titanic.sex=='male'].age.dropna()\n",
    "female_age = titanic[titanic.sex!='male'].age.dropna()\n",
    "\n",
    "bins = plt.hist(female_age, color='orange', alpha=0.5, label='female')\n",
    "bins = plt.hist(male_age, bins=bins[1], color='blue', alpha=0.5, label='male')\n",
    "plt.legend(loc='best')\n",
    "\n",
    "plt.title('распределение возрастов мужчин и женщин');"
   ]
  },
  {
   "cell_type": "code",
   "execution_count": null,
   "metadata": {},
   "outputs": [],
   "source": [
    "male_age = titanic[(titanic.sex=='male').values * (titanic.survived==1).values].age.dropna()\n",
    "female_age = titanic[(titanic.sex=='female').values * (titanic.survived==1).values].age.dropna()\n",
    "\n",
    "bins = plt.hist(female_age, color='orange', alpha=0.5, label='female')\n",
    "bins = plt.hist(male_age, bins=bins[1], color='blue', alpha=0.5, label='male')\n",
    "plt.legend(loc='best')\n",
    "\n",
    "plt.title('распределение возрастов мужчин и женщин среди выживших');"
   ]
  },
  {
   "cell_type": "code",
   "execution_count": null,
   "metadata": {},
   "outputs": [],
   "source": [
    "plt.scatter(titanic.age, titanic.fare, c=titanic.sex.apply(lambda x: 'r' if x=='female' else 'b'))"
   ]
  },
  {
   "cell_type": "code",
   "execution_count": null,
   "metadata": {},
   "outputs": [],
   "source": [
    "maps = {1:'r', 2:'b', 3:'y'}\n",
    "plt.scatter(titanic[titanic.pclass==1].age, titanic[titanic.pclass==1].fare, c='r', label='first_class')\n",
    "plt.scatter(titanic[titanic.pclass==2].age, titanic[titanic.pclass==2].fare, c='b', label='second_class')\n",
    "plt.scatter(titanic[titanic.pclass==3].age, titanic[titanic.pclass==3].fare, c='y', label='third_class')\n",
    "\n",
    "plt.xlabel('age')\n",
    "plt.ylabel('fare')\n",
    "\n",
    "plt.legend()"
   ]
  },
  {
   "cell_type": "markdown",
   "metadata": {},
   "source": [
    "> все достаточно логично, однако если бы данные не были такими очевидными?"
   ]
  },
  {
   "cell_type": "code",
   "execution_count": null,
   "metadata": {},
   "outputs": [],
   "source": [
    "plt.scatter(titanic.index, titanic.fare)"
   ]
  },
  {
   "cell_type": "code",
   "execution_count": null,
   "metadata": {
    "collapsed": true
   },
   "outputs": [],
   "source": []
  },
  {
   "cell_type": "markdown",
   "metadata": {},
   "source": [
    "https://khashtamov.com/ru/pandas-introduction/"
   ]
  },
  {
   "cell_type": "markdown",
   "metadata": {},
   "source": [
    "https://seaborn.pydata.org/tutorial.html"
   ]
  }
 ],
 "metadata": {
  "kernelspec": {
   "display_name": "Python 3",
   "language": "python",
   "name": "python3"
  },
  "language_info": {
   "codemirror_mode": {
    "name": "ipython",
    "version": 3
   },
   "file_extension": ".py",
   "mimetype": "text/x-python",
   "name": "python",
   "nbconvert_exporter": "python",
   "pygments_lexer": "ipython3",
   "version": "3.7.2"
  }
 },
 "nbformat": 4,
 "nbformat_minor": 2
}
